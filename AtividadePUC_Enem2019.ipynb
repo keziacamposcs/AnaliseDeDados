{
 "cells":[
  {
   "cell_type":"code",
   "source":[
    "#Importanto bibliotecas\n",
    "import matplotlib.pyplot as plt\n",
    "import pandas as pd"
   ],
   "execution_count":1,
   "outputs":[
    
   ],
   "metadata":{
    "datalore":{
     "node_id":"G7uhcUP7euDiOllAIyaoxI",
     "type":"CODE",
     "hide_input_from_viewers":false,
     "hide_output_from_viewers":false,
     "report_properties":{
      "x":0,
      "y":0,
      "height":5,
      "splitHeight":4
     }
    }
   }
  },
  {
   "cell_type":"markdown",
   "source":[
    "Será utilizado uma base de dados do Enem 2019 do estado de São Paulo tratado, disponível também: \n",
    "[Aqui](https:\/\/www.kaggle.com\/datasets\/lauroliveira\/enem-2019-dados-tratados)"
   ],
   "attachments":{
    
   },
   "metadata":{
    "datalore":{
     "node_id":"r7EItfvNToA8wZn6rhCIi8",
     "type":"MD",
     "hide_input_from_viewers":false,
     "hide_output_from_viewers":false,
     "report_properties":{
      "x":0,
      "y":5,
      "height":4
     }
    }
   }
  },
  {
   "cell_type":"code",
   "source":[
    "enem = pd.read_csv('enem_2019_tratado.csv', sep = ',', encoding='iso-8859-1')\n",
    "enem.head(10)"
   ],
   "execution_count":2,
   "outputs":[
    {
     "data":{
      "text\/html":[
       "<div>\n",
       "<style scoped>\n",
       "    .dataframe tbody tr th:only-of-type {\n",
       "        vertical-align: middle;\n",
       "    }\n",
       "\n",
       "    .dataframe tbody tr th {\n",
       "        vertical-align: top;\n",
       "    }\n",
       "\n",
       "    .dataframe thead th {\n",
       "        text-align: right;\n",
       "    }\n",
       "<\/style>\n",
       "<table border=\"1\" class=\"dataframe\">\n",
       "  <thead>\n",
       "    <tr style=\"text-align: right;\">\n",
       "      <th><\/th>\n",
       "      <th>NU_INSCRICAO<\/th>\n",
       "      <th>NO_MUNICIPIO_RESIDENCIA<\/th>\n",
       "      <th>IDADE<\/th>\n",
       "      <th>SEXO<\/th>\n",
       "      <th>TP_ESTADO_CIVIL<\/th>\n",
       "      <th>RACA<\/th>\n",
       "      <th>TP_NACIONALIDADE<\/th>\n",
       "      <th>TP_ST_CONCLUSAO<\/th>\n",
       "      <th>ESCOLA<\/th>\n",
       "      <th>CO_ESCOLA<\/th>\n",
       "      <th>...<\/th>\n",
       "      <th>NOTA_MT<\/th>\n",
       "      <th>TP_LINGUA<\/th>\n",
       "      <th>TP_STATUS_REDACAO<\/th>\n",
       "      <th>COMP1<\/th>\n",
       "      <th>COMP2<\/th>\n",
       "      <th>COMP3<\/th>\n",
       "      <th>COMP4<\/th>\n",
       "      <th>COMP5<\/th>\n",
       "      <th>NOTA_REDACAO<\/th>\n",
       "      <th>INTERNET<\/th>\n",
       "    <\/tr>\n",
       "  <\/thead>\n",
       "  <tbody>\n",
       "    <tr>\n",
       "      <th>0<\/th>\n",
       "      <td>1,90E+11<\/td>\n",
       "      <td>Santa Isabel<\/td>\n",
       "      <td>22<\/td>\n",
       "      <td>M<\/td>\n",
       "      <td>1<\/td>\n",
       "      <td>parda<\/td>\n",
       "      <td>1<\/td>\n",
       "      <td>1<\/td>\n",
       "      <td>não_respondeu<\/td>\n",
       "      <td>NaN<\/td>\n",
       "      <td>...<\/td>\n",
       "      <td>600.2<\/td>\n",
       "      <td>Inglês<\/td>\n",
       "      <td>1.0<\/td>\n",
       "      <td>160.0<\/td>\n",
       "      <td>200.0<\/td>\n",
       "      <td>180.0<\/td>\n",
       "      <td>200.0<\/td>\n",
       "      <td>200.0<\/td>\n",
       "      <td>940.0<\/td>\n",
       "      <td>Sim<\/td>\n",
       "    <\/tr>\n",
       "    <tr>\n",
       "      <th>1<\/th>\n",
       "      <td>1,90E+11<\/td>\n",
       "      <td>São Paulo<\/td>\n",
       "      <td>17<\/td>\n",
       "      <td>F<\/td>\n",
       "      <td>1<\/td>\n",
       "      <td>parda<\/td>\n",
       "      <td>1<\/td>\n",
       "      <td>2<\/td>\n",
       "      <td>privada<\/td>\n",
       "      <td>15567761.0<\/td>\n",
       "      <td>...<\/td>\n",
       "      <td>731.8<\/td>\n",
       "      <td>Inglês<\/td>\n",
       "      <td>1.0<\/td>\n",
       "      <td>160.0<\/td>\n",
       "      <td>120.0<\/td>\n",
       "      <td>200.0<\/td>\n",
       "      <td>200.0<\/td>\n",
       "      <td>200.0<\/td>\n",
       "      <td>880.0<\/td>\n",
       "      <td>Não<\/td>\n",
       "    <\/tr>\n",
       "    <tr>\n",
       "      <th>2<\/th>\n",
       "      <td>1,90E+11<\/td>\n",
       "      <td>São Bernardo do Campo<\/td>\n",
       "      <td>19<\/td>\n",
       "      <td>M<\/td>\n",
       "      <td>1<\/td>\n",
       "      <td>parda<\/td>\n",
       "      <td>1<\/td>\n",
       "      <td>2<\/td>\n",
       "      <td>pública<\/td>\n",
       "      <td>35904958.0<\/td>\n",
       "      <td>...<\/td>\n",
       "      <td>393.2<\/td>\n",
       "      <td>Espanhol<\/td>\n",
       "      <td>1.0<\/td>\n",
       "      <td>80.0<\/td>\n",
       "      <td>160.0<\/td>\n",
       "      <td>120.0<\/td>\n",
       "      <td>100.0<\/td>\n",
       "      <td>100.0<\/td>\n",
       "      <td>560.0<\/td>\n",
       "      <td>Sim<\/td>\n",
       "    <\/tr>\n",
       "    <tr>\n",
       "      <th>3<\/th>\n",
       "      <td>1,90E+11<\/td>\n",
       "      <td>Embu-Guaçu<\/td>\n",
       "      <td>17<\/td>\n",
       "      <td>F<\/td>\n",
       "      <td>1<\/td>\n",
       "      <td>parda<\/td>\n",
       "      <td>1<\/td>\n",
       "      <td>2<\/td>\n",
       "      <td>pública<\/td>\n",
       "      <td>NaN<\/td>\n",
       "      <td>...<\/td>\n",
       "      <td>419.2<\/td>\n",
       "      <td>Inglês<\/td>\n",
       "      <td>1.0<\/td>\n",
       "      <td>120.0<\/td>\n",
       "      <td>120.0<\/td>\n",
       "      <td>120.0<\/td>\n",
       "      <td>120.0<\/td>\n",
       "      <td>80.0<\/td>\n",
       "      <td>560.0<\/td>\n",
       "      <td>Sim<\/td>\n",
       "    <\/tr>\n",
       "    <tr>\n",
       "      <th>4<\/th>\n",
       "      <td>1,90E+11<\/td>\n",
       "      <td>Guarulhos<\/td>\n",
       "      <td>23<\/td>\n",
       "      <td>F<\/td>\n",
       "      <td>1<\/td>\n",
       "      <td>branca<\/td>\n",
       "      <td>1<\/td>\n",
       "      <td>1<\/td>\n",
       "      <td>não_respondeu<\/td>\n",
       "      <td>NaN<\/td>\n",
       "      <td>...<\/td>\n",
       "      <td>796.1<\/td>\n",
       "      <td>Inglês<\/td>\n",
       "      <td>1.0<\/td>\n",
       "      <td>160.0<\/td>\n",
       "      <td>200.0<\/td>\n",
       "      <td>180.0<\/td>\n",
       "      <td>180.0<\/td>\n",
       "      <td>160.0<\/td>\n",
       "      <td>880.0<\/td>\n",
       "      <td>Sim<\/td>\n",
       "    <\/tr>\n",
       "    <tr>\n",
       "      <th>5<\/th>\n",
       "      <td>1,90E+11<\/td>\n",
       "      <td>São José do Rio Preto<\/td>\n",
       "      <td>18<\/td>\n",
       "      <td>F<\/td>\n",
       "      <td>1<\/td>\n",
       "      <td>branca<\/td>\n",
       "      <td>1<\/td>\n",
       "      <td>2<\/td>\n",
       "      <td>pública<\/td>\n",
       "      <td>35028927.0<\/td>\n",
       "      <td>...<\/td>\n",
       "      <td>612.8<\/td>\n",
       "      <td>Espanhol<\/td>\n",
       "      <td>1.0<\/td>\n",
       "      <td>120.0<\/td>\n",
       "      <td>160.0<\/td>\n",
       "      <td>120.0<\/td>\n",
       "      <td>80.0<\/td>\n",
       "      <td>100.0<\/td>\n",
       "      <td>580.0<\/td>\n",
       "      <td>Não<\/td>\n",
       "    <\/tr>\n",
       "    <tr>\n",
       "      <th>6<\/th>\n",
       "      <td>1,90E+11<\/td>\n",
       "      <td>Franca<\/td>\n",
       "      <td>32<\/td>\n",
       "      <td>M<\/td>\n",
       "      <td>1<\/td>\n",
       "      <td>parda<\/td>\n",
       "      <td>1<\/td>\n",
       "      <td>1<\/td>\n",
       "      <td>não_respondeu<\/td>\n",
       "      <td>NaN<\/td>\n",
       "      <td>...<\/td>\n",
       "      <td>584.1<\/td>\n",
       "      <td>Espanhol<\/td>\n",
       "      <td>1.0<\/td>\n",
       "      <td>120.0<\/td>\n",
       "      <td>120.0<\/td>\n",
       "      <td>120.0<\/td>\n",
       "      <td>120.0<\/td>\n",
       "      <td>100.0<\/td>\n",
       "      <td>580.0<\/td>\n",
       "      <td>Sim<\/td>\n",
       "    <\/tr>\n",
       "    <tr>\n",
       "      <th>7<\/th>\n",
       "      <td>1,90E+11<\/td>\n",
       "      <td>Santo André<\/td>\n",
       "      <td>20<\/td>\n",
       "      <td>F<\/td>\n",
       "      <td>1<\/td>\n",
       "      <td>parda<\/td>\n",
       "      <td>1<\/td>\n",
       "      <td>1<\/td>\n",
       "      <td>não_respondeu<\/td>\n",
       "      <td>NaN<\/td>\n",
       "      <td>...<\/td>\n",
       "      <td>508.5<\/td>\n",
       "      <td>Espanhol<\/td>\n",
       "      <td>1.0<\/td>\n",
       "      <td>120.0<\/td>\n",
       "      <td>120.0<\/td>\n",
       "      <td>120.0<\/td>\n",
       "      <td>100.0<\/td>\n",
       "      <td>80.0<\/td>\n",
       "      <td>540.0<\/td>\n",
       "      <td>Sim<\/td>\n",
       "    <\/tr>\n",
       "    <tr>\n",
       "      <th>8<\/th>\n",
       "      <td>1,90E+11<\/td>\n",
       "      <td>São Paulo<\/td>\n",
       "      <td>26<\/td>\n",
       "      <td>M<\/td>\n",
       "      <td>1<\/td>\n",
       "      <td>branca<\/td>\n",
       "      <td>1<\/td>\n",
       "      <td>1<\/td>\n",
       "      <td>não_respondeu<\/td>\n",
       "      <td>NaN<\/td>\n",
       "      <td>...<\/td>\n",
       "      <td>681.2<\/td>\n",
       "      <td>Espanhol<\/td>\n",
       "      <td>1.0<\/td>\n",
       "      <td>180.0<\/td>\n",
       "      <td>200.0<\/td>\n",
       "      <td>200.0<\/td>\n",
       "      <td>200.0<\/td>\n",
       "      <td>120.0<\/td>\n",
       "      <td>900.0<\/td>\n",
       "      <td>Sim<\/td>\n",
       "    <\/tr>\n",
       "    <tr>\n",
       "      <th>9<\/th>\n",
       "      <td>1,90E+11<\/td>\n",
       "      <td>Santo André<\/td>\n",
       "      <td>44<\/td>\n",
       "      <td>F<\/td>\n",
       "      <td>2<\/td>\n",
       "      <td>parda<\/td>\n",
       "      <td>1<\/td>\n",
       "      <td>1<\/td>\n",
       "      <td>não_respondeu<\/td>\n",
       "      <td>NaN<\/td>\n",
       "      <td>...<\/td>\n",
       "      <td>488.1<\/td>\n",
       "      <td>Espanhol<\/td>\n",
       "      <td>1.0<\/td>\n",
       "      <td>120.0<\/td>\n",
       "      <td>120.0<\/td>\n",
       "      <td>120.0<\/td>\n",
       "      <td>120.0<\/td>\n",
       "      <td>40.0<\/td>\n",
       "      <td>520.0<\/td>\n",
       "      <td>Sim<\/td>\n",
       "    <\/tr>\n",
       "  <\/tbody>\n",
       "<\/table>\n",
       "<p>10 rows × 28 columns<\/p>\n",
       "<\/div>"
      ]
     },
     "metadata":{
      
     },
     "output_type":"display_data"
    }
   ],
   "metadata":{
    "datalore":{
     "node_id":"tVUnSl2JeZYgYAmaj30fKF",
     "type":"CODE",
     "hide_input_from_viewers":false,
     "hide_output_from_viewers":false,
     "report_properties":{
      "x":0,
      "y":9,
      "height":11
     }
    }
   }
  },
  {
   "cell_type":"markdown",
   "source":[
    "**Objetivo**: Prever a Nota de Redação tendo como variáveis independentes as notas de seus componentes"
   ],
   "attachments":{
    
   },
   "metadata":{
    "datalore":{
     "node_id":"xaY5knq3KD5A3dvauxBOOi",
     "type":"MD",
     "hide_input_from_viewers":false,
     "hide_output_from_viewers":false,
     "report_properties":{
      "x":0,
      "y":20,
      "height":4
     }
    }
   }
  },
  {
   "cell_type":"code",
   "source":[
    "enem.columns"
   ],
   "execution_count":3,
   "outputs":[
    {
     "data":{
      "text\/plain":[
       "Index(['NU_INSCRICAO', 'NO_MUNICIPIO_RESIDENCIA', 'IDADE', 'SEXO',\n",
       "       'TP_ESTADO_CIVIL', 'RACA', 'TP_NACIONALIDADE', 'TP_ST_CONCLUSAO',\n",
       "       'ESCOLA', 'CO_ESCOLA', 'NO_MUNICIPIO_ESC', 'TP_PRESENCA_CN',\n",
       "       'TP_PRESENCA_CH', 'TP_PRESENCA_LC', 'TP_PRESENCA_MT', 'NOTA_CN',\n",
       "       'NOTA_CH', 'NOTA_LC', 'NOTA_MT', 'TP_LINGUA', 'TP_STATUS_REDACAO',\n",
       "       'COMP1', 'COMP2', 'COMP3', 'COMP4', 'COMP5', 'NOTA_REDACAO',\n",
       "       'INTERNET'],\n",
       "      dtype='object')"
      ]
     },
     "metadata":{
      
     },
     "output_type":"display_data"
    }
   ],
   "metadata":{
    "datalore":{
     "node_id":"QA0kYswcuo5irCY6HTzwNT",
     "type":"CODE",
     "hide_input_from_viewers":false,
     "hide_output_from_viewers":false,
     "report_properties":{
      "x":0,
      "y":24,
      "height":9
     }
    }
   }
  },
  {
   "cell_type":"code",
   "source":[
    "enem.shape"
   ],
   "execution_count":4,
   "outputs":[
    {
     "data":{
      "text\/plain":[
       "(499940, 28)"
      ]
     },
     "metadata":{
      
     },
     "output_type":"display_data"
    }
   ],
   "metadata":{
    "datalore":{
     "node_id":"CB8jEYDpfemPOJdt2rwdOm",
     "type":"CODE",
     "hide_input_from_viewers":false,
     "hide_output_from_viewers":false,
     "report_properties":{
      "x":0,
      "y":33,
      "height":6
     }
    }
   }
  },
  {
   "cell_type":"code",
   "source":[
    "#Selecionando apenas um dos colégios\n",
    "colegio_x = enem.loc[enem.CO_ESCOLA == 35132287]"
   ],
   "execution_count":5,
   "outputs":[
    
   ],
   "metadata":{
    "datalore":{
     "node_id":"yD9sgHTk1Er3I8l3RW0sgB",
     "type":"CODE",
     "hide_input_from_viewers":false,
     "hide_output_from_viewers":false,
     "report_properties":{
      "x":0,
      "y":39,
      "height":4,
      "splitHeight":3
     }
    }
   }
  },
  {
   "cell_type":"code",
   "source":[
    "colegio_x.head()"
   ],
   "execution_count":6,
   "outputs":[
    {
     "data":{
      "text\/html":[
       "<div>\n",
       "<style scoped>\n",
       "    .dataframe tbody tr th:only-of-type {\n",
       "        vertical-align: middle;\n",
       "    }\n",
       "\n",
       "    .dataframe tbody tr th {\n",
       "        vertical-align: top;\n",
       "    }\n",
       "\n",
       "    .dataframe thead th {\n",
       "        text-align: right;\n",
       "    }\n",
       "<\/style>\n",
       "<table border=\"1\" class=\"dataframe\">\n",
       "  <thead>\n",
       "    <tr style=\"text-align: right;\">\n",
       "      <th><\/th>\n",
       "      <th>NU_INSCRICAO<\/th>\n",
       "      <th>NO_MUNICIPIO_RESIDENCIA<\/th>\n",
       "      <th>IDADE<\/th>\n",
       "      <th>SEXO<\/th>\n",
       "      <th>TP_ESTADO_CIVIL<\/th>\n",
       "      <th>RACA<\/th>\n",
       "      <th>TP_NACIONALIDADE<\/th>\n",
       "      <th>TP_ST_CONCLUSAO<\/th>\n",
       "      <th>ESCOLA<\/th>\n",
       "      <th>CO_ESCOLA<\/th>\n",
       "      <th>...<\/th>\n",
       "      <th>NOTA_MT<\/th>\n",
       "      <th>TP_LINGUA<\/th>\n",
       "      <th>TP_STATUS_REDACAO<\/th>\n",
       "      <th>COMP1<\/th>\n",
       "      <th>COMP2<\/th>\n",
       "      <th>COMP3<\/th>\n",
       "      <th>COMP4<\/th>\n",
       "      <th>COMP5<\/th>\n",
       "      <th>NOTA_REDACAO<\/th>\n",
       "      <th>INTERNET<\/th>\n",
       "    <\/tr>\n",
       "  <\/thead>\n",
       "  <tbody>\n",
       "    <tr>\n",
       "      <th>17<\/th>\n",
       "      <td>1,90E+11<\/td>\n",
       "      <td>São Paulo<\/td>\n",
       "      <td>18<\/td>\n",
       "      <td>F<\/td>\n",
       "      <td>1<\/td>\n",
       "      <td>branca<\/td>\n",
       "      <td>1<\/td>\n",
       "      <td>2<\/td>\n",
       "      <td>privada<\/td>\n",
       "      <td>35132287.0<\/td>\n",
       "      <td>...<\/td>\n",
       "      <td>49.1<\/td>\n",
       "      <td>Inglês<\/td>\n",
       "      <td>1.0<\/td>\n",
       "      <td>160.0<\/td>\n",
       "      <td>140.0<\/td>\n",
       "      <td>140.0<\/td>\n",
       "      <td>160.0<\/td>\n",
       "      <td>160.0<\/td>\n",
       "      <td>760.0<\/td>\n",
       "      <td>Sim<\/td>\n",
       "    <\/tr>\n",
       "    <tr>\n",
       "      <th>10760<\/th>\n",
       "      <td>1,90E+11<\/td>\n",
       "      <td>São Paulo<\/td>\n",
       "      <td>17<\/td>\n",
       "      <td>M<\/td>\n",
       "      <td>1<\/td>\n",
       "      <td>parda<\/td>\n",
       "      <td>1<\/td>\n",
       "      <td>2<\/td>\n",
       "      <td>privada<\/td>\n",
       "      <td>35132287.0<\/td>\n",
       "      <td>...<\/td>\n",
       "      <td>930.5<\/td>\n",
       "      <td>Inglês<\/td>\n",
       "      <td>1.0<\/td>\n",
       "      <td>180.0<\/td>\n",
       "      <td>200.0<\/td>\n",
       "      <td>200.0<\/td>\n",
       "      <td>200.0<\/td>\n",
       "      <td>140.0<\/td>\n",
       "      <td>920.0<\/td>\n",
       "      <td>Sim<\/td>\n",
       "    <\/tr>\n",
       "    <tr>\n",
       "      <th>13315<\/th>\n",
       "      <td>1,90E+11<\/td>\n",
       "      <td>São Paulo<\/td>\n",
       "      <td>17<\/td>\n",
       "      <td>F<\/td>\n",
       "      <td>1<\/td>\n",
       "      <td>branca<\/td>\n",
       "      <td>1<\/td>\n",
       "      <td>2<\/td>\n",
       "      <td>privada<\/td>\n",
       "      <td>35132287.0<\/td>\n",
       "      <td>...<\/td>\n",
       "      <td>663.9<\/td>\n",
       "      <td>Inglês<\/td>\n",
       "      <td>1.0<\/td>\n",
       "      <td>160.0<\/td>\n",
       "      <td>140.0<\/td>\n",
       "      <td>160.0<\/td>\n",
       "      <td>200.0<\/td>\n",
       "      <td>120.0<\/td>\n",
       "      <td>780.0<\/td>\n",
       "      <td>Sim<\/td>\n",
       "    <\/tr>\n",
       "    <tr>\n",
       "      <th>20006<\/th>\n",
       "      <td>1,90E+11<\/td>\n",
       "      <td>São Paulo<\/td>\n",
       "      <td>17<\/td>\n",
       "      <td>F<\/td>\n",
       "      <td>1<\/td>\n",
       "      <td>branca<\/td>\n",
       "      <td>1<\/td>\n",
       "      <td>2<\/td>\n",
       "      <td>privada<\/td>\n",
       "      <td>35132287.0<\/td>\n",
       "      <td>...<\/td>\n",
       "      <td>771.9<\/td>\n",
       "      <td>Inglês<\/td>\n",
       "      <td>1.0<\/td>\n",
       "      <td>140.0<\/td>\n",
       "      <td>180.0<\/td>\n",
       "      <td>160.0<\/td>\n",
       "      <td>180.0<\/td>\n",
       "      <td>140.0<\/td>\n",
       "      <td>800.0<\/td>\n",
       "      <td>Sim<\/td>\n",
       "    <\/tr>\n",
       "    <tr>\n",
       "      <th>26697<\/th>\n",
       "      <td>1,90E+11<\/td>\n",
       "      <td>São Paulo<\/td>\n",
       "      <td>18<\/td>\n",
       "      <td>F<\/td>\n",
       "      <td>1<\/td>\n",
       "      <td>branca<\/td>\n",
       "      <td>1<\/td>\n",
       "      <td>2<\/td>\n",
       "      <td>privada<\/td>\n",
       "      <td>35132287.0<\/td>\n",
       "      <td>...<\/td>\n",
       "      <td>663.1<\/td>\n",
       "      <td>Inglês<\/td>\n",
       "      <td>1.0<\/td>\n",
       "      <td>160.0<\/td>\n",
       "      <td>200.0<\/td>\n",
       "      <td>200.0<\/td>\n",
       "      <td>200.0<\/td>\n",
       "      <td>200.0<\/td>\n",
       "      <td>960.0<\/td>\n",
       "      <td>Sim<\/td>\n",
       "    <\/tr>\n",
       "  <\/tbody>\n",
       "<\/table>\n",
       "<p>5 rows × 28 columns<\/p>\n",
       "<\/div>"
      ]
     },
     "metadata":{
      
     },
     "output_type":"display_data"
    }
   ],
   "metadata":{
    "datalore":{
     "node_id":"Ax0cN0U7GoWM4aQRTIrmMN",
     "type":"CODE",
     "hide_input_from_viewers":true,
     "hide_output_from_viewers":true
    }
   }
  },
  {
   "cell_type":"code",
   "source":[
    "colegio_x.shape"
   ],
   "execution_count":7,
   "outputs":[
    {
     "data":{
      "text\/plain":[
       "(130, 28)"
      ]
     },
     "metadata":{
      
     },
     "output_type":"display_data"
    }
   ],
   "metadata":{
    "datalore":{
     "node_id":"Hfk2RwQ0zuzCc0WYs5BWSm",
     "type":"CODE",
     "hide_input_from_viewers":false,
     "hide_output_from_viewers":false,
     "report_properties":{
      "x":0,
      "y":43,
      "height":6
     }
    }
   }
  },
  {
   "cell_type":"code",
   "source":[
    "#Valores nulos por coluna:\n",
    "colegio_x.isnull().sum()"
   ],
   "execution_count":8,
   "outputs":[
    {
     "data":{
      "text\/html":[
       
      ]
     },
     "metadata":{
      
     },
     "output_type":"display_data"
    }
   ],
   "metadata":{
    "datalore":{
     "node_id":"0VdjZ9AVpubO3pBUT8F0sJ",
     "type":"CODE",
     "hide_input_from_viewers":true,
     "hide_output_from_viewers":true
    }
   }
  },
  {
   "cell_type":"markdown",
   "source":[
    "A Tabela, por ser tratada, não possuí valores nulos nas colunas."
   ],
   "attachments":{
    
   },
   "metadata":{
    "datalore":{
     "node_id":"CXzLRCEtiOn5qIHDMhLa9A",
     "type":"MD",
     "hide_input_from_viewers":true,
     "hide_output_from_viewers":true
    }
   }
  },
  {
   "cell_type":"code",
   "source":[
    "colegio_x.dtypes"
   ],
   "execution_count":9,
   "outputs":[
    {
     "data":{
      "text\/html":[
       
      ]
     },
     "metadata":{
      
     },
     "output_type":"display_data"
    }
   ],
   "metadata":{
    "datalore":{
     "node_id":"M9gTtDL9jXak2VdM0lwXfW",
     "type":"CODE",
     "hide_input_from_viewers":true,
     "hide_output_from_viewers":true
    }
   }
  },
  {
   "cell_type":"code",
   "source":[
    "import statsmodels.formula.api as smf"
   ],
   "execution_count":10,
   "outputs":[
    
   ],
   "metadata":{
    "datalore":{
     "node_id":"NmhrO4xfFBlqKSsdgq7LOH",
     "type":"CODE",
     "hide_input_from_viewers":true,
     "hide_output_from_viewers":true
    }
   }
  },
  {
   "cell_type":"code",
   "source":[
    "import statsmodels.stats.api as sms"
   ],
   "execution_count":11,
   "outputs":[
    
   ],
   "metadata":{
    "datalore":{
     "node_id":"78NyVlOLBCYnpTxNLq85Xe",
     "type":"CODE",
     "hide_input_from_viewers":true,
     "hide_output_from_viewers":true
    }
   }
  },
  {
   "cell_type":"code",
   "source":[
    "variaveis = colegio_x[['NOTA_REDACAO', 'COMP2', 'COMP4', 'COMP5']]"
   ],
   "execution_count":12,
   "outputs":[
    
   ],
   "metadata":{
    "datalore":{
     "node_id":"2gRE5BESFllXSdXBOuOZnd",
     "type":"CODE",
     "hide_input_from_viewers":true,
     "hide_output_from_viewers":true
    }
   }
  },
  {
   "cell_type":"code",
   "source":[
    "variaveis.corr()"
   ],
   "execution_count":13,
   "outputs":[
    {
     "data":{
      "text\/html":[
       "<div>\n",
       "<style scoped>\n",
       "    .dataframe tbody tr th:only-of-type {\n",
       "        vertical-align: middle;\n",
       "    }\n",
       "\n",
       "    .dataframe tbody tr th {\n",
       "        vertical-align: top;\n",
       "    }\n",
       "\n",
       "    .dataframe thead th {\n",
       "        text-align: right;\n",
       "    }\n",
       "<\/style>\n",
       "<table border=\"1\" class=\"dataframe\">\n",
       "  <thead>\n",
       "    <tr style=\"text-align: right;\">\n",
       "      <th><\/th>\n",
       "      <th>NOTA_REDACAO<\/th>\n",
       "      <th>COMP2<\/th>\n",
       "      <th>COMP4<\/th>\n",
       "      <th>COMP5<\/th>\n",
       "    <\/tr>\n",
       "  <\/thead>\n",
       "  <tbody>\n",
       "    <tr>\n",
       "      <th>NOTA_REDACAO<\/th>\n",
       "      <td>1.000000<\/td>\n",
       "      <td>0.725277<\/td>\n",
       "      <td>0.785098<\/td>\n",
       "      <td>0.675253<\/td>\n",
       "    <\/tr>\n",
       "    <tr>\n",
       "      <th>COMP2<\/th>\n",
       "      <td>0.725277<\/td>\n",
       "      <td>1.000000<\/td>\n",
       "      <td>0.375906<\/td>\n",
       "      <td>0.298434<\/td>\n",
       "    <\/tr>\n",
       "    <tr>\n",
       "      <th>COMP4<\/th>\n",
       "      <td>0.785098<\/td>\n",
       "      <td>0.375906<\/td>\n",
       "      <td>1.000000<\/td>\n",
       "      <td>0.428872<\/td>\n",
       "    <\/tr>\n",
       "    <tr>\n",
       "      <th>COMP5<\/th>\n",
       "      <td>0.675253<\/td>\n",
       "      <td>0.298434<\/td>\n",
       "      <td>0.428872<\/td>\n",
       "      <td>1.000000<\/td>\n",
       "    <\/tr>\n",
       "  <\/tbody>\n",
       "<\/table>\n",
       "<\/div>"
      ]
     },
     "metadata":{
      
     },
     "output_type":"display_data"
    }
   ],
   "metadata":{
    "datalore":{
     "node_id":"ydY3U4lhIKrpzJUN6feEPl",
     "type":"CODE",
     "hide_input_from_viewers":true,
     "hide_output_from_viewers":true
    }
   }
  },
  {
   "cell_type":"code",
   "source":[
    "modelo = smf.ols('NOTA_REDACAO ~ COMP2 + COMP4 + COMP5', data = colegio_x).fit()"
   ],
   "execution_count":14,
   "outputs":[
    
   ],
   "metadata":{
    "datalore":{
     "node_id":"VbQdmolFV4eUFSn3tYAVbw",
     "type":"CODE",
     "hide_input_from_viewers":true,
     "hide_output_from_viewers":true
    }
   }
  },
  {
   "cell_type":"code",
   "source":[
    "residuos = modelo.resid\n",
    "residuos"
   ],
   "execution_count":15,
   "outputs":[
    {
     "data":{
      "text\/html":[
       
      ]
     },
     "metadata":{
      
     },
     "output_type":"display_data"
    }
   ],
   "metadata":{
    "datalore":{
     "node_id":"QptPWBjjph2lINa5UJmpCb",
     "type":"CODE",
     "hide_input_from_viewers":true,
     "hide_output_from_viewers":true
    }
   }
  },
  {
   "cell_type":"markdown",
   "source":[
    "---\n",
    "### Teste de Normalidade dos resíduos\n",
    "\n",
    "H0 = distribuição normal: p>0,05\n",
    "\n",
    "Ha = distribuição não normal: p < 0,05"
   ],
   "attachments":{
    
   },
   "metadata":{
    "datalore":{
     "node_id":"C4lkriOSAxeNH4sECKgFY3",
     "type":"MD",
     "hide_input_from_viewers":true,
     "hide_output_from_viewers":true
    }
   }
  },
  {
   "cell_type":"code",
   "source":[
    "import scipy.stats as stats"
   ],
   "execution_count":16,
   "outputs":[
    
   ],
   "metadata":{
    "datalore":{
     "node_id":"f8y5JP2PEMyYHvcUXd771H",
     "type":"CODE",
     "hide_input_from_viewers":true,
     "hide_output_from_viewers":true
    }
   }
  },
  {
   "cell_type":"code",
   "source":[
    "estatistica, p = stats.shapiro(residuos)"
   ],
   "execution_count":17,
   "outputs":[
    
   ],
   "metadata":{
    "datalore":{
     "node_id":"JHJxuQqjyDpMyCR2P4zP7q",
     "type":"CODE",
     "hide_input_from_viewers":true,
     "hide_output_from_viewers":true
    }
   }
  },
  {
   "cell_type":"code",
   "source":[
    "estatistica"
   ],
   "execution_count":18,
   "outputs":[
    {
     "data":{
      "text\/plain":[
       "0.9847344160079956"
      ]
     },
     "metadata":{
      
     },
     "output_type":"display_data"
    }
   ],
   "metadata":{
    "datalore":{
     "node_id":"oL894CJUP7UXSkjsRWNN9e",
     "type":"CODE",
     "hide_input_from_viewers":true,
     "hide_output_from_viewers":true
    }
   }
  },
  {
   "cell_type":"code",
   "source":[
    "p"
   ],
   "execution_count":19,
   "outputs":[
    {
     "data":{
      "text\/plain":[
       "0.15436986088752747"
      ]
     },
     "metadata":{
      
     },
     "output_type":"display_data"
    }
   ],
   "metadata":{
    "datalore":{
     "node_id":"4X7ubPIITW9DwxlT9z0kb2",
     "type":"CODE",
     "hide_input_from_viewers":true,
     "hide_output_from_viewers":true
    }
   }
  },
  {
   "cell_type":"markdown",
   "source":[
    "**Logo, os resíduos possuém distribuição normal.**"
   ],
   "attachments":{
    
   },
   "metadata":{
    "datalore":{
     "node_id":"pAxRpV1RbtjvsSK4okkORg",
     "type":"MD",
     "hide_input_from_viewers":true,
     "hide_output_from_viewers":true
    }
   }
  },
  {
   "cell_type":"code",
   "source":[
    "stats.probplot(residuos, dist='norm',plot=plt)\n",
    "plt.show()"
   ],
   "execution_count":20,
   "outputs":[
    {
     "data":{
      "image\/png":"[encoded data removed]"
     },
     "metadata":{
      "image\/png":{
       
      }
     },
     "output_type":"display_data"
    }
   ],
   "metadata":{
    "datalore":{
     "node_id":"dTZuDRw4Zxs66ENHk8X54R",
     "type":"CODE",
     "hide_input_from_viewers":true,
     "hide_output_from_viewers":true
    }
   }
  },
  {
   "cell_type":"code",
   "source":[
    "plt.scatter(y = residuos, x = modelo.predict(), color = 'red')\n",
    "plt.hlines(y=0, xmin=550, xmax=1000, color='orange')\n",
    "plt.ylabel('Residuos')\n",
    "plt.xlabel('Valores Preditos')\n",
    "plt.show()"
   ],
   "execution_count":21,
   "outputs":[
    {
     "data":{
      "image\/png":"[encoded data removed]"
     },
     "metadata":{
      "image\/png":{
       
      }
     },
     "output_type":"display_data"
    }
   ],
   "metadata":{
    "datalore":{
     "node_id":"mAdX7N4Ku6ImZqCASxh4zs",
     "type":"CODE",
     "hide_input_from_viewers":true,
     "hide_output_from_viewers":true
    }
   }
  },
  {
   "cell_type":"code",
   "source":[
    "from statsmodels.compat import  lzip"
   ],
   "execution_count":22,
   "outputs":[
    
   ],
   "metadata":{
    "datalore":{
     "node_id":"wOcGi8Gd1fRUdQJOIjyiRN",
     "type":"CODE",
     "hide_input_from_viewers":true,
     "hide_output_from_viewers":true
    }
   }
  },
  {
   "cell_type":"code",
   "source":[
    "estatistica, p, f, fp = sms.het_breuschpagan(modelo.resid, modelo.model.exog)"
   ],
   "execution_count":23,
   "outputs":[
    
   ],
   "metadata":{
    "datalore":{
     "node_id":"2qrywj7u28pC2GA5UeGLTM",
     "type":"CODE",
     "hide_input_from_viewers":true,
     "hide_output_from_viewers":true
    }
   }
  },
  {
   "cell_type":"code",
   "source":[
    "p"
   ],
   "execution_count":24,
   "outputs":[
    {
     "data":{
      "text\/plain":[
       "0.04727168987447729"
      ]
     },
     "metadata":{
      
     },
     "output_type":"display_data"
    }
   ],
   "metadata":{
    "datalore":{
     "node_id":"ZOX3eSq1flSGKC1JkmNXOx",
     "type":"CODE",
     "hide_input_from_viewers":true,
     "hide_output_from_viewers":true
    }
   }
  },
  {
   "cell_type":"markdown",
   "source":[
    "### Outliers nos resíduos\n",
    "\n",
    "Entre 3 e -3"
   ],
   "attachments":{
    
   },
   "metadata":{
    "datalore":{
     "node_id":"Bxe8bfjJvTC8MjLcekeuKA",
     "type":"MD",
     "hide_input_from_viewers":true,
     "hide_output_from_viewers":true
    }
   }
  },
  {
   "cell_type":"code",
   "source":[
    "outliers = modelo.outlier_test()"
   ],
   "execution_count":25,
   "outputs":[
    
   ],
   "metadata":{
    "datalore":{
     "node_id":"dSzRh8zcW05vNsPBr6B0Bp",
     "type":"CODE",
     "hide_input_from_viewers":true,
     "hide_output_from_viewers":true
    }
   }
  },
  {
   "cell_type":"code",
   "source":[
    "outliers.max()"
   ],
   "execution_count":26,
   "outputs":[
    {
     "data":{
      "text\/html":[
       
      ]
     },
     "metadata":{
      
     },
     "output_type":"display_data"
    }
   ],
   "metadata":{
    "datalore":{
     "node_id":"5Jh5h9pB30dPvaSdsWNM9m",
     "type":"CODE",
     "hide_input_from_viewers":true,
     "hide_output_from_viewers":true
    }
   }
  },
  {
   "cell_type":"code",
   "source":[
    "outliers.min()"
   ],
   "execution_count":27,
   "outputs":[
    {
     "data":{
      "text\/html":[
       
      ]
     },
     "metadata":{
      
     },
     "output_type":"display_data"
    }
   ],
   "metadata":{
    "datalore":{
     "node_id":"fl4RtUjRF87y2vhSlPbz3c",
     "type":"CODE",
     "hide_input_from_viewers":true,
     "hide_output_from_viewers":true
    }
   }
  },
  {
   "cell_type":"markdown",
   "source":[
    "### Ausência de Multicolinearidade"
   ],
   "attachments":{
    
   },
   "metadata":{
    "datalore":{
     "node_id":"bLcmBBpwElr1feiRocPPUU",
     "type":"MD",
     "hide_input_from_viewers":true,
     "hide_output_from_viewers":true
    }
   }
  },
  {
   "cell_type":"code",
   "source":[
    "variaveis = colegio_x [['COMP2', 'COMP4', 'COMP5']]"
   ],
   "execution_count":28,
   "outputs":[
    
   ],
   "metadata":{
    "datalore":{
     "node_id":"MEUm7hNrCvaah5sr2NTe9c",
     "type":"CODE",
     "hide_input_from_viewers":true,
     "hide_output_from_viewers":true
    }
   }
  },
  {
   "cell_type":"code",
   "source":[
    "correlacoes = variaveis.corr()"
   ],
   "execution_count":29,
   "outputs":[
    
   ],
   "metadata":{
    "datalore":{
     "node_id":"EhplEhq20XM23y4UYdmzHI",
     "type":"CODE",
     "hide_input_from_viewers":true,
     "hide_output_from_viewers":true
    }
   }
  },
  {
   "cell_type":"code",
   "source":[
    "correlacoes"
   ],
   "execution_count":30,
   "outputs":[
    {
     "data":{
      "text\/html":[
       "<div>\n",
       "<style scoped>\n",
       "    .dataframe tbody tr th:only-of-type {\n",
       "        vertical-align: middle;\n",
       "    }\n",
       "\n",
       "    .dataframe tbody tr th {\n",
       "        vertical-align: top;\n",
       "    }\n",
       "\n",
       "    .dataframe thead th {\n",
       "        text-align: right;\n",
       "    }\n",
       "<\/style>\n",
       "<table border=\"1\" class=\"dataframe\">\n",
       "  <thead>\n",
       "    <tr style=\"text-align: right;\">\n",
       "      <th><\/th>\n",
       "      <th>COMP2<\/th>\n",
       "      <th>COMP4<\/th>\n",
       "      <th>COMP5<\/th>\n",
       "    <\/tr>\n",
       "  <\/thead>\n",
       "  <tbody>\n",
       "    <tr>\n",
       "      <th>COMP2<\/th>\n",
       "      <td>1.000000<\/td>\n",
       "      <td>0.375906<\/td>\n",
       "      <td>0.298434<\/td>\n",
       "    <\/tr>\n",
       "    <tr>\n",
       "      <th>COMP4<\/th>\n",
       "      <td>0.375906<\/td>\n",
       "      <td>1.000000<\/td>\n",
       "      <td>0.428872<\/td>\n",
       "    <\/tr>\n",
       "    <tr>\n",
       "      <th>COMP5<\/th>\n",
       "      <td>0.298434<\/td>\n",
       "      <td>0.428872<\/td>\n",
       "      <td>1.000000<\/td>\n",
       "    <\/tr>\n",
       "  <\/tbody>\n",
       "<\/table>\n",
       "<\/div>"
      ]
     },
     "metadata":{
      
     },
     "output_type":"display_data"
    }
   ],
   "metadata":{
    "datalore":{
     "node_id":"9DURn0KUvz7vTxnSs1gLnH",
     "type":"CODE",
     "hide_input_from_viewers":true,
     "hide_output_from_viewers":true
    }
   }
  },
  {
   "cell_type":"code",
   "source":[
    "#Utilizando VIF (Fator de Inflação de Variância)\n",
    "\n",
    "from statsmodels.stats.outliers_influence import variance_inflation_factor\n",
    "from statsmodels.tools.tools import add_constant"
   ],
   "execution_count":31,
   "outputs":[
    
   ],
   "metadata":{
    "datalore":{
     "node_id":"HVlZfbm2PKaSpJAaArVfwo",
     "type":"CODE",
     "hide_input_from_viewers":true,
     "hide_output_from_viewers":true
    }
   }
  },
  {
   "cell_type":"code",
   "source":[
    "vif = add_constant(variaveis)\n",
    "pd.Series([variance_inflation_factor(vif.values, j) for j in range(vif.shape[1])], index=vif.columns)"
   ],
   "execution_count":32,
   "outputs":[
    {
     "data":{
      "text\/html":[
       
      ]
     },
     "metadata":{
      
     },
     "output_type":"display_data"
    }
   ],
   "metadata":{
    "datalore":{
     "node_id":"InWVUSPV5gvFVD7xRrwCkm",
     "type":"CODE",
     "hide_input_from_viewers":true,
     "hide_output_from_viewers":true
    }
   }
  },
  {
   "cell_type":"code",
   "source":[
    "vif"
   ],
   "execution_count":33,
   "outputs":[
    {
     "data":{
      "text\/html":[
       "<div>\n",
       "<style scoped>\n",
       "    .dataframe tbody tr th:only-of-type {\n",
       "        vertical-align: middle;\n",
       "    }\n",
       "\n",
       "    .dataframe tbody tr th {\n",
       "        vertical-align: top;\n",
       "    }\n",
       "\n",
       "    .dataframe thead th {\n",
       "        text-align: right;\n",
       "    }\n",
       "<\/style>\n",
       "<table border=\"1\" class=\"dataframe\">\n",
       "  <thead>\n",
       "    <tr style=\"text-align: right;\">\n",
       "      <th><\/th>\n",
       "      <th>const<\/th>\n",
       "      <th>COMP2<\/th>\n",
       "      <th>COMP4<\/th>\n",
       "      <th>COMP5<\/th>\n",
       "    <\/tr>\n",
       "  <\/thead>\n",
       "  <tbody>\n",
       "    <tr>\n",
       "      <th>17<\/th>\n",
       "      <td>1.0<\/td>\n",
       "      <td>140.0<\/td>\n",
       "      <td>160.0<\/td>\n",
       "      <td>160.0<\/td>\n",
       "    <\/tr>\n",
       "    <tr>\n",
       "      <th>10760<\/th>\n",
       "      <td>1.0<\/td>\n",
       "      <td>200.0<\/td>\n",
       "      <td>200.0<\/td>\n",
       "      <td>140.0<\/td>\n",
       "    <\/tr>\n",
       "    <tr>\n",
       "      <th>13315<\/th>\n",
       "      <td>1.0<\/td>\n",
       "      <td>140.0<\/td>\n",
       "      <td>200.0<\/td>\n",
       "      <td>120.0<\/td>\n",
       "    <\/tr>\n",
       "    <tr>\n",
       "      <th>20006<\/th>\n",
       "      <td>1.0<\/td>\n",
       "      <td>180.0<\/td>\n",
       "      <td>180.0<\/td>\n",
       "      <td>140.0<\/td>\n",
       "    <\/tr>\n",
       "    <tr>\n",
       "      <th>26697<\/th>\n",
       "      <td>1.0<\/td>\n",
       "      <td>200.0<\/td>\n",
       "      <td>200.0<\/td>\n",
       "      <td>200.0<\/td>\n",
       "    <\/tr>\n",
       "    <tr>\n",
       "      <th>...<\/th>\n",
       "      <td>...<\/td>\n",
       "      <td>...<\/td>\n",
       "      <td>...<\/td>\n",
       "      <td>...<\/td>\n",
       "    <\/tr>\n",
       "    <tr>\n",
       "      <th>426829<\/th>\n",
       "      <td>1.0<\/td>\n",
       "      <td>120.0<\/td>\n",
       "      <td>140.0<\/td>\n",
       "      <td>160.0<\/td>\n",
       "    <\/tr>\n",
       "    <tr>\n",
       "      <th>428241<\/th>\n",
       "      <td>1.0<\/td>\n",
       "      <td>120.0<\/td>\n",
       "      <td>120.0<\/td>\n",
       "      <td>100.0<\/td>\n",
       "    <\/tr>\n",
       "    <tr>\n",
       "      <th>443242<\/th>\n",
       "      <td>1.0<\/td>\n",
       "      <td>200.0<\/td>\n",
       "      <td>160.0<\/td>\n",
       "      <td>140.0<\/td>\n",
       "    <\/tr>\n",
       "    <tr>\n",
       "      <th>462446<\/th>\n",
       "      <td>1.0<\/td>\n",
       "      <td>160.0<\/td>\n",
       "      <td>180.0<\/td>\n",
       "      <td>120.0<\/td>\n",
       "    <\/tr>\n",
       "    <tr>\n",
       "      <th>483420<\/th>\n",
       "      <td>1.0<\/td>\n",
       "      <td>200.0<\/td>\n",
       "      <td>160.0<\/td>\n",
       "      <td>180.0<\/td>\n",
       "    <\/tr>\n",
       "  <\/tbody>\n",
       "<\/table>\n",
       "<p>130 rows × 4 columns<\/p>\n",
       "<\/div>"
      ]
     },
     "metadata":{
      
     },
     "output_type":"display_data"
    }
   ],
   "metadata":{
    "datalore":{
     "node_id":"LtPqEjSd7LmTz5kWj0bQhP",
     "type":"CODE",
     "hide_input_from_viewers":true,
     "hide_output_from_viewers":true
    }
   }
  },
  {
   "cell_type":"markdown",
   "source":[
    "Dessa forma, o modelo está apto para ser analisado.\n",
    "\n",
    "### Análise de Dados\n",
    "\n",
    "Seguindo então  na Análise do Modelo os seguintes pontos:\n",
    "\n",
    "- Intercept e Coeficiente\n",
    "- p_valor para cada coeficiente < 0.05 (estatisticmente significativos)\n",
    "- Adjusted R-squared\n",
    "- p_valor de estatística F <0.05 (valida o modelo de regressão)"
   ],
   "attachments":{
    
   },
   "metadata":{
    "datalore":{
     "node_id":"3VSoeYiq69B1KzYpN2guNV",
     "type":"MD",
     "hide_input_from_viewers":true,
     "hide_output_from_viewers":true
    }
   }
  },
  {
   "cell_type":"code",
   "source":[
    "print(modelo.summary())"
   ],
   "execution_count":34,
   "outputs":[
    {
     "name":"stdout",
     "text":[
      "                            OLS Regression Results                            \n",
      "==============================================================================\n",
      "Dep. Variable:           NOTA_REDACAO   R-squared:                       0.924\n",
      "Model:                            OLS   Adj. R-squared:                  0.922\n",
      "Method:                 Least Squares   F-statistic:                     507.2\n",
      "Date:                Tue, 11 Oct 2022   Prob (F-statistic):           3.97e-70\n",
      "Time:                        13:19:01   Log-Likelihood:                -604.30\n",
      "No. Observations:                 130   AIC:                             1217.\n",
      "Df Residuals:                     126   BIC:                             1228.\n",
      "Df Model:                           3                                         \n",
      "Covariance Type:            nonrobust                                         \n",
      "==============================================================================\n",
      "                 coef    std err          t      P>|t|      [0.025      0.975]\n",
      "------------------------------------------------------------------------------\n",
      "Intercept    116.1987     19.162      6.064      0.000      78.278     154.119\n",
      "COMP2          1.2831      0.077     16.573      0.000       1.130       1.436\n",
      "COMP4          1.7298      0.104     16.559      0.000       1.523       1.937\n",
      "COMP5          1.1993      0.098     12.290      0.000       1.006       1.392\n",
      "==============================================================================\n",
      "Omnibus:                        5.200   Durbin-Watson:                   2.081\n",
      "Prob(Omnibus):                  0.074   Jarque-Bera (JB):                4.794\n",
      "Skew:                          -0.369   Prob(JB):                       0.0910\n",
      "Kurtosis:                       3.584   Cond. No.                     2.58e+03\n",
      "==============================================================================\n",
      "\n",
      "Notes:\n",
      "[1] Standard Errors assume that the covariance matrix of the errors is correctly specified.\n",
      "[2] The condition number is large, 2.58e+03. This might indicate that there are\n",
      "strong multicollinearity or other numerical problems.\n"
     ],
     "output_type":"stream"
    }
   ],
   "metadata":{
    "datalore":{
     "node_id":"ZXVVMcJ3pSNkCRYMonl7bn",
     "type":"CODE",
     "hide_input_from_viewers":true,
     "hide_output_from_viewers":true
    }
   }
  },
  {
   "cell_type":"markdown",
   "source":[
    "**Avaliando o gráfico apresentado acima:**\n",
    "\n",
    "\n",
    "![image](attachment:.\/image.png)\n"
   ],
   "attachments":{
    ".\/image.png":{
     "image\/png":"[encoded data removed]"
    }
   },
   "metadata":{
    "datalore":{
     "node_id":"LFcPblHzlmAphnIMaXGJ7p",
     "type":"MD",
     "hide_input_from_viewers":true,
     "hide_output_from_viewers":true
    }
   }
  },
  {
   "cell_type":"code",
   "source":[
    "colegio_x['previsao'] = modelo.fittedvalues"
   ],
   "execution_count":35,
   "outputs":[
    {
     "name":"stderr",
     "text":[
      "<ipython-input-35-c0f307bc19fe>:1: SettingWithCopyWarning: \n",
      "A value is trying to be set on a copy of a slice from a DataFrame.\n",
      "Try using .loc[row_indexer,col_indexer] = value instead\n",
      "\n",
      "See the caveats in the documentation: https:\/\/pandas.pydata.org\/pandas-docs\/stable\/user_guide\/indexing.html#returning-a-view-versus-a-copy\n",
      "  colegio_x['previsao'] = modelo.fittedvalues\n"
     ],
     "output_type":"stream"
    }
   ],
   "metadata":{
    "datalore":{
     "node_id":"kTosFucMsYebG8Fk8wzrTY",
     "type":"CODE",
     "hide_input_from_viewers":true,
     "hide_output_from_viewers":true
    }
   }
  },
  {
   "cell_type":"code",
   "source":[
    "colegio_x.head()"
   ],
   "execution_count":36,
   "outputs":[
    {
     "data":{
      "text\/html":[
       "<div>\n",
       "<style scoped>\n",
       "    .dataframe tbody tr th:only-of-type {\n",
       "        vertical-align: middle;\n",
       "    }\n",
       "\n",
       "    .dataframe tbody tr th {\n",
       "        vertical-align: top;\n",
       "    }\n",
       "\n",
       "    .dataframe thead th {\n",
       "        text-align: right;\n",
       "    }\n",
       "<\/style>\n",
       "<table border=\"1\" class=\"dataframe\">\n",
       "  <thead>\n",
       "    <tr style=\"text-align: right;\">\n",
       "      <th><\/th>\n",
       "      <th>NU_INSCRICAO<\/th>\n",
       "      <th>NO_MUNICIPIO_RESIDENCIA<\/th>\n",
       "      <th>IDADE<\/th>\n",
       "      <th>SEXO<\/th>\n",
       "      <th>TP_ESTADO_CIVIL<\/th>\n",
       "      <th>RACA<\/th>\n",
       "      <th>TP_NACIONALIDADE<\/th>\n",
       "      <th>TP_ST_CONCLUSAO<\/th>\n",
       "      <th>ESCOLA<\/th>\n",
       "      <th>CO_ESCOLA<\/th>\n",
       "      <th>...<\/th>\n",
       "      <th>TP_LINGUA<\/th>\n",
       "      <th>TP_STATUS_REDACAO<\/th>\n",
       "      <th>COMP1<\/th>\n",
       "      <th>COMP2<\/th>\n",
       "      <th>COMP3<\/th>\n",
       "      <th>COMP4<\/th>\n",
       "      <th>COMP5<\/th>\n",
       "      <th>NOTA_REDACAO<\/th>\n",
       "      <th>INTERNET<\/th>\n",
       "      <th>previsao<\/th>\n",
       "    <\/tr>\n",
       "  <\/thead>\n",
       "  <tbody>\n",
       "    <tr>\n",
       "      <th>17<\/th>\n",
       "      <td>1,90E+11<\/td>\n",
       "      <td>São Paulo<\/td>\n",
       "      <td>18<\/td>\n",
       "      <td>F<\/td>\n",
       "      <td>1<\/td>\n",
       "      <td>branca<\/td>\n",
       "      <td>1<\/td>\n",
       "      <td>2<\/td>\n",
       "      <td>privada<\/td>\n",
       "      <td>35132287.0<\/td>\n",
       "      <td>...<\/td>\n",
       "      <td>Inglês<\/td>\n",
       "      <td>1.0<\/td>\n",
       "      <td>160.0<\/td>\n",
       "      <td>140.0<\/td>\n",
       "      <td>140.0<\/td>\n",
       "      <td>160.0<\/td>\n",
       "      <td>160.0<\/td>\n",
       "      <td>760.0<\/td>\n",
       "      <td>Sim<\/td>\n",
       "      <td>764.498054<\/td>\n",
       "    <\/tr>\n",
       "    <tr>\n",
       "      <th>10760<\/th>\n",
       "      <td>1,90E+11<\/td>\n",
       "      <td>São Paulo<\/td>\n",
       "      <td>17<\/td>\n",
       "      <td>M<\/td>\n",
       "      <td>1<\/td>\n",
       "      <td>parda<\/td>\n",
       "      <td>1<\/td>\n",
       "      <td>2<\/td>\n",
       "      <td>privada<\/td>\n",
       "      <td>35132287.0<\/td>\n",
       "      <td>...<\/td>\n",
       "      <td>Inglês<\/td>\n",
       "      <td>1.0<\/td>\n",
       "      <td>180.0<\/td>\n",
       "      <td>200.0<\/td>\n",
       "      <td>200.0<\/td>\n",
       "      <td>200.0<\/td>\n",
       "      <td>140.0<\/td>\n",
       "      <td>920.0<\/td>\n",
       "      <td>Sim<\/td>\n",
       "      <td>886.690642<\/td>\n",
       "    <\/tr>\n",
       "    <tr>\n",
       "      <th>13315<\/th>\n",
       "      <td>1,90E+11<\/td>\n",
       "      <td>São Paulo<\/td>\n",
       "      <td>17<\/td>\n",
       "      <td>F<\/td>\n",
       "      <td>1<\/td>\n",
       "      <td>branca<\/td>\n",
       "      <td>1<\/td>\n",
       "      <td>2<\/td>\n",
       "      <td>privada<\/td>\n",
       "      <td>35132287.0<\/td>\n",
       "      <td>...<\/td>\n",
       "      <td>Inglês<\/td>\n",
       "      <td>1.0<\/td>\n",
       "      <td>160.0<\/td>\n",
       "      <td>140.0<\/td>\n",
       "      <td>160.0<\/td>\n",
       "      <td>200.0<\/td>\n",
       "      <td>120.0<\/td>\n",
       "      <td>780.0<\/td>\n",
       "      <td>Sim<\/td>\n",
       "      <td>785.718021<\/td>\n",
       "    <\/tr>\n",
       "    <tr>\n",
       "      <th>20006<\/th>\n",
       "      <td>1,90E+11<\/td>\n",
       "      <td>São Paulo<\/td>\n",
       "      <td>17<\/td>\n",
       "      <td>F<\/td>\n",
       "      <td>1<\/td>\n",
       "      <td>branca<\/td>\n",
       "      <td>1<\/td>\n",
       "      <td>2<\/td>\n",
       "      <td>privada<\/td>\n",
       "      <td>35132287.0<\/td>\n",
       "      <td>...<\/td>\n",
       "      <td>Inglês<\/td>\n",
       "      <td>1.0<\/td>\n",
       "      <td>140.0<\/td>\n",
       "      <td>180.0<\/td>\n",
       "      <td>160.0<\/td>\n",
       "      <td>180.0<\/td>\n",
       "      <td>140.0<\/td>\n",
       "      <td>800.0<\/td>\n",
       "      <td>Sim<\/td>\n",
       "      <td>826.432059<\/td>\n",
       "    <\/tr>\n",
       "    <tr>\n",
       "      <th>26697<\/th>\n",
       "      <td>1,90E+11<\/td>\n",
       "      <td>São Paulo<\/td>\n",
       "      <td>18<\/td>\n",
       "      <td>F<\/td>\n",
       "      <td>1<\/td>\n",
       "      <td>branca<\/td>\n",
       "      <td>1<\/td>\n",
       "      <td>2<\/td>\n",
       "      <td>privada<\/td>\n",
       "      <td>35132287.0<\/td>\n",
       "      <td>...<\/td>\n",
       "      <td>Inglês<\/td>\n",
       "      <td>1.0<\/td>\n",
       "      <td>160.0<\/td>\n",
       "      <td>200.0<\/td>\n",
       "      <td>200.0<\/td>\n",
       "      <td>200.0<\/td>\n",
       "      <td>200.0<\/td>\n",
       "      <td>960.0<\/td>\n",
       "      <td>Sim<\/td>\n",
       "      <td>958.650406<\/td>\n",
       "    <\/tr>\n",
       "  <\/tbody>\n",
       "<\/table>\n",
       "<p>5 rows × 29 columns<\/p>\n",
       "<\/div>"
      ]
     },
     "metadata":{
      
     },
     "output_type":"display_data"
    }
   ],
   "metadata":{
    "datalore":{
     "node_id":"bDKztVfM6pArFSPnDDlgLC",
     "type":"CODE",
     "hide_input_from_viewers":true,
     "hide_output_from_viewers":true
    }
   }
  }
 ],
 "metadata":{
  "kernelspec":{
   "display_name":"Python",
   "language":"python",
   "name":"python"
  },
  "datalore":{
   "version":1,
   "computation_mode":"JUPYTER",
   "package_manager":"pip",
   "base_environment":"default",
   "packages":[
    
   ]
  }
 },
 "nbformat":4,
 "nbformat_minor":4
}