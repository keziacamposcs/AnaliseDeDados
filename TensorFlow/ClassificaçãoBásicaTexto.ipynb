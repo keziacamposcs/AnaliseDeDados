{
  "nbformat": 4,
  "nbformat_minor": 0,
  "metadata": {
    "colab": {
      "name": "ClassificaçãoBásicaTexto.ipynb",
      "provenance": [],
      "collapsed_sections": [],
      "authorship_tag": "ABX9TyNGyKWmLCWZFoRF2II6aZuD"
    },
    "kernelspec": {
      "name": "python3",
      "display_name": "Python 3"
    },
    "language_info": {
      "name": "python"
    }
  },
  "cells": [
    {
      "cell_type": "markdown",
      "metadata": {
        "id": "B06LscaQLyLd"
      },
      "source": [
        "#**Aplicação da Rede Neural para Classificação Básica de Texto**\n",
        "\n",
        "Treinamendo de um modelo de rede neural que classifica filmes como **positivo** ou **negativo** usando o texto da avaliação.\n",
        "\n",
        "\n",
        "Base de dados: [IMDb](https://https://www.imdb.com/)\n",
        "\n",
        "A Base de Dados contém avaliações de 50.000 filmes do banco de dados **Internet Movie Database**.\n",
        "\n",
        "\n"
      ]
    },
    {
      "cell_type": "markdown",
      "metadata": {
        "id": "qNwycn3VP3vb"
      },
      "source": [
        "###**Preparando o ambiente**"
      ]
    },
    {
      "cell_type": "code",
      "metadata": {
        "colab": {
          "base_uri": "https://localhost:8080/"
        },
        "id": "3azTcj8IPAT2",
        "outputId": "85257160-dff7-43f4-ced6-10033d08f990"
      },
      "source": [
        "#Importando TensorFlow e Keras\n",
        "import tensorflow as tf\n",
        "from tensorflow import keras\n",
        "\n",
        "#Importando Numpy\n",
        "import numpy as np\n",
        "\n",
        "#Versão do TensorFlow\n",
        "print(tf.__version__)"
      ],
      "execution_count": 1,
      "outputs": [
        {
          "output_type": "stream",
          "text": [
            "2.5.0\n"
          ],
          "name": "stdout"
        }
      ]
    },
    {
      "cell_type": "markdown",
      "metadata": {
        "id": "-0dFeSRXQNVL"
      },
      "source": [
        "### **Importando o Dataset**"
      ]
    },
    {
      "cell_type": "markdown",
      "metadata": {
        "id": "A-5Ocpy8Qoba"
      },
      "source": [
        "Treino / Teste"
      ]
    },
    {
      "cell_type": "code",
      "metadata": {
        "colab": {
          "base_uri": "https://localhost:8080/"
        },
        "id": "cl-VU8PQKRMH",
        "outputId": "b8b6d3b3-a9fc-46eb-fade-25fe9756785b"
      },
      "source": [
        "imdb = keras.datasets.imdb\n",
        "\n",
        "(train_data, train_labels), (test_data, test_labels) = imdb.load_data(num_words=10000)"
      ],
      "execution_count": 2,
      "outputs": [
        {
          "output_type": "stream",
          "text": [
            "<string>:6: VisibleDeprecationWarning: Creating an ndarray from ragged nested sequences (which is a list-or-tuple of lists-or-tuples-or ndarrays with different lengths or shapes) is deprecated. If you meant to do this, you must specify 'dtype=object' when creating the ndarray\n",
            "/usr/local/lib/python3.7/dist-packages/tensorflow/python/keras/datasets/imdb.py:155: VisibleDeprecationWarning: Creating an ndarray from ragged nested sequences (which is a list-or-tuple of lists-or-tuples-or ndarrays with different lengths or shapes) is deprecated. If you meant to do this, you must specify 'dtype=object' when creating the ndarray\n",
            "  x_train, y_train = np.array(xs[:idx]), np.array(labels[:idx])\n",
            "/usr/local/lib/python3.7/dist-packages/tensorflow/python/keras/datasets/imdb.py:156: VisibleDeprecationWarning: Creating an ndarray from ragged nested sequences (which is a list-or-tuple of lists-or-tuples-or ndarrays with different lengths or shapes) is deprecated. If you meant to do this, you must specify 'dtype=object' when creating the ndarray\n",
            "  x_test, y_test = np.array(xs[idx:]), np.array(labels[idx:])\n"
          ],
          "name": "stderr"
        }
      ]
    },
    {
      "cell_type": "markdown",
      "metadata": {
        "id": "fUouwCc9Q4Aw"
      },
      "source": [
        "``num_words`` = mantém 10.000 palavras **mais frequentes no conjunto de treinamento**.\n",
        "\n",
        "As palavras mais raras são descartadas para preservar o tamanho dos dados de forma maleável.\n",
        "\n"
      ]
    },
    {
      "cell_type": "markdown",
      "metadata": {
        "id": "Qp_W9jl7Qxp5"
      },
      "source": [
        "###**Explorando os dados**"
      ]
    },
    {
      "cell_type": "markdown",
      "metadata": {
        "id": "FsxQgrF6SAC-"
      },
      "source": [
        "O conjunto de dados vem pré-processado: cada exemplo é um array de inteiros representando as palavras da avaliação do filme. Cada label é um inteiro com valor ou de 0 ou 1, onde 0 é uma avaliação negativa e 1 é uma avaliação positiva."
      ]
    },
    {
      "cell_type": "code",
      "metadata": {
        "colab": {
          "base_uri": "https://localhost:8080/"
        },
        "id": "dQOK6TkSQwxQ",
        "outputId": "ea9fa984-ff41-4657-b1dd-1524f6d5b926"
      },
      "source": [
        "print(\"Entrada de treino: {}, labels: {}\".format(len(train_data), len(train_labels)))"
      ],
      "execution_count": 3,
      "outputs": [
        {
          "output_type": "stream",
          "text": [
            "Entrada de treino: 25000, labels: 25000\n"
          ],
          "name": "stdout"
        }
      ]
    },
    {
      "cell_type": "markdown",
      "metadata": {
        "id": "P9N4kXzaUD8Y"
      },
      "source": [
        "O texto das avaliações foi **convertido para inteiros**, onde cada inteiro representa uma palavra específica no dicionário:"
      ]
    },
    {
      "cell_type": "code",
      "metadata": {
        "colab": {
          "base_uri": "https://localhost:8080/"
        },
        "id": "uOHlPVwCSdPG",
        "outputId": "baea9b7a-4ec9-4715-d882-d845d80deb29"
      },
      "source": [
        "print(train_data[0])"
      ],
      "execution_count": 4,
      "outputs": [
        {
          "output_type": "stream",
          "text": [
            "[1, 14, 22, 16, 43, 530, 973, 1622, 1385, 65, 458, 4468, 66, 3941, 4, 173, 36, 256, 5, 25, 100, 43, 838, 112, 50, 670, 2, 9, 35, 480, 284, 5, 150, 4, 172, 112, 167, 2, 336, 385, 39, 4, 172, 4536, 1111, 17, 546, 38, 13, 447, 4, 192, 50, 16, 6, 147, 2025, 19, 14, 22, 4, 1920, 4613, 469, 4, 22, 71, 87, 12, 16, 43, 530, 38, 76, 15, 13, 1247, 4, 22, 17, 515, 17, 12, 16, 626, 18, 2, 5, 62, 386, 12, 8, 316, 8, 106, 5, 4, 2223, 5244, 16, 480, 66, 3785, 33, 4, 130, 12, 16, 38, 619, 5, 25, 124, 51, 36, 135, 48, 25, 1415, 33, 6, 22, 12, 215, 28, 77, 52, 5, 14, 407, 16, 82, 2, 8, 4, 107, 117, 5952, 15, 256, 4, 2, 7, 3766, 5, 723, 36, 71, 43, 530, 476, 26, 400, 317, 46, 7, 4, 2, 1029, 13, 104, 88, 4, 381, 15, 297, 98, 32, 2071, 56, 26, 141, 6, 194, 7486, 18, 4, 226, 22, 21, 134, 476, 26, 480, 5, 144, 30, 5535, 18, 51, 36, 28, 224, 92, 25, 104, 4, 226, 65, 16, 38, 1334, 88, 12, 16, 283, 5, 16, 4472, 113, 103, 32, 15, 16, 5345, 19, 178, 32]\n"
          ],
          "name": "stdout"
        }
      ]
    },
    {
      "cell_type": "markdown",
      "metadata": {
        "id": "-5JJe3J7URYh"
      },
      "source": [
        "As avaliações dos filmes têm tamanhos diferentes. O código abaixo mostra o número de palavras da primeira e segunda avaliação.\n",
        "\n",
        "Porém o número de entradas da rede neural tem que ser o mesmo também."
      ]
    },
    {
      "cell_type": "code",
      "metadata": {
        "colab": {
          "base_uri": "https://localhost:8080/"
        },
        "id": "qy0DW1TTSh3d",
        "outputId": "450d7105-ed02-4a58-bc44-6f4d1b426298"
      },
      "source": [
        "len(train_data[0]), len(train_data[1])"
      ],
      "execution_count": 5,
      "outputs": [
        {
          "output_type": "execute_result",
          "data": {
            "text/plain": [
              "(218, 189)"
            ]
          },
          "metadata": {
            "tags": []
          },
          "execution_count": 5
        }
      ]
    },
    {
      "cell_type": "markdown",
      "metadata": {
        "id": "aVsZ32uBUb0K"
      },
      "source": [
        "**CONVERTENDO INTEIROS PARA PALAVRAS**\n",
        "\n",
        "Função de ajuda para consultar um objeto dictionary que contenha inteiros mapeados em strings:\n"
      ]
    },
    {
      "cell_type": "code",
      "metadata": {
        "id": "zw6I6pOzanyq"
      },
      "source": [
        "#Dicionário mapenado as palvras em índices inteiros\n",
        "word_index = imdb.get_word_index()\n",
        "\n",
        "#Os primeiros índices são reservados\n",
        "word_index = {k:(v+3) for k, v in word_index.items()}\n",
        "word_index[\"<PAD>\"] = 0\n",
        "word_index[\"<START>\"] = 1\n",
        "word_index[\"<UNK>\"] = 2\n",
        "word_index[\"<UNUSED>\"] = 3\n",
        "\n",
        "reverse_word_index = dict([(value, key) for (key, value) in word_index.items()])\n",
        "\n",
        "def decode_review(text):\n",
        "  return ' ' . join([reverse_word_index.get(i, '?') for i in text])\n"
      ],
      "execution_count": 6,
      "outputs": []
    },
    {
      "cell_type": "code",
      "metadata": {
        "colab": {
          "base_uri": "https://localhost:8080/",
          "height": 132
        },
        "id": "PAJU1IcCbxMC",
        "outputId": "11256219-028e-47f8-b570-4e2630fa1a16"
      },
      "source": [
        "decode_review(train_data[0])"
      ],
      "execution_count": 7,
      "outputs": [
        {
          "output_type": "execute_result",
          "data": {
            "application/vnd.google.colaboratory.intrinsic+json": {
              "type": "string"
            },
            "text/plain": [
              "\"<START> this film was just brilliant casting location scenery story direction everyone's really suited the part they played and you could just imagine being there robert <UNK> is an amazing actor and now the same being director <UNK> father came from the same scottish island as myself so i loved the fact there was a real connection with this film the witty remarks throughout the film were great it was just brilliant so much that i bought the film as soon as it was released for <UNK> and would recommend it to everyone to watch and the fly fishing was amazing really cried at the end it was so sad and you know what they say if you cry at a film it must have been good and this definitely was also <UNK> to the two little boy's that played the <UNK> of norman and paul they were just brilliant children are often left out of the <UNK> list i think because the stars that play them all grown up are such a big profile for the whole film but these children are amazing and should be praised for what they have done don't you think the whole story was so lovely because it was true and was someone's life after all that was shared with us all\""
            ]
          },
          "metadata": {
            "tags": []
          },
          "execution_count": 7
        }
      ]
    },
    {
      "cell_type": "markdown",
      "metadata": {
        "id": "rr0HP0eQdMnx"
      },
      "source": [
        "### **Preparando os dados**"
      ]
    },
    {
      "cell_type": "code",
      "metadata": {
        "id": "BNuhOJ_Rni5V"
      },
      "source": [
        "train_data = keras.preprocessing.sequence.pad_sequences(train_data,\n",
        "                                                        value=word_index[\"<PAD>\"],\n",
        "                                                        padding = 'post',\n",
        "                                                        maxlen = 256)\n",
        "\n",
        "test_data = keras.preprocessing.sequence.pad_sequences(test_data,\n",
        "                                                       value = word_index[\"<PAD>\"],\n",
        "                                                       padding = 'post', \n",
        "                                                       maxlen = 256)"
      ],
      "execution_count": 8,
      "outputs": []
    },
    {
      "cell_type": "code",
      "metadata": {
        "colab": {
          "base_uri": "https://localhost:8080/"
        },
        "id": "yBSS_Z9IqDkq",
        "outputId": "17fa6b07-8d0a-4332-bb6b-169f8051327e"
      },
      "source": [
        "#Tamanho dos exemplos\n",
        "len(train_data[0]), len(train_data[1])"
      ],
      "execution_count": 9,
      "outputs": [
        {
          "output_type": "execute_result",
          "data": {
            "text/plain": [
              "(256, 256)"
            ]
          },
          "metadata": {
            "tags": []
          },
          "execution_count": 9
        }
      ]
    },
    {
      "cell_type": "code",
      "metadata": {
        "colab": {
          "base_uri": "https://localhost:8080/"
        },
        "id": "XlldnkleqYfQ",
        "outputId": "7ca054fd-34ed-46ef-d9a4-31d5a040b800"
      },
      "source": [
        "#Inspeção das primeiras avaliações\n",
        "print(train_data[0])"
      ],
      "execution_count": 10,
      "outputs": [
        {
          "output_type": "stream",
          "text": [
            "[   1   14   22   16   43  530  973 1622 1385   65  458 4468   66 3941\n",
            "    4  173   36  256    5   25  100   43  838  112   50  670    2    9\n",
            "   35  480  284    5  150    4  172  112  167    2  336  385   39    4\n",
            "  172 4536 1111   17  546   38   13  447    4  192   50   16    6  147\n",
            " 2025   19   14   22    4 1920 4613  469    4   22   71   87   12   16\n",
            "   43  530   38   76   15   13 1247    4   22   17  515   17   12   16\n",
            "  626   18    2    5   62  386   12    8  316    8  106    5    4 2223\n",
            " 5244   16  480   66 3785   33    4  130   12   16   38  619    5   25\n",
            "  124   51   36  135   48   25 1415   33    6   22   12  215   28   77\n",
            "   52    5   14  407   16   82    2    8    4  107  117 5952   15  256\n",
            "    4    2    7 3766    5  723   36   71   43  530  476   26  400  317\n",
            "   46    7    4    2 1029   13  104   88    4  381   15  297   98   32\n",
            " 2071   56   26  141    6  194 7486   18    4  226   22   21  134  476\n",
            "   26  480    5  144   30 5535   18   51   36   28  224   92   25  104\n",
            "    4  226   65   16   38 1334   88   12   16  283    5   16 4472  113\n",
            "  103   32   15   16 5345   19  178   32    0    0    0    0    0    0\n",
            "    0    0    0    0    0    0    0    0    0    0    0    0    0    0\n",
            "    0    0    0    0    0    0    0    0    0    0    0    0    0    0\n",
            "    0    0    0    0]\n"
          ],
          "name": "stdout"
        }
      ]
    },
    {
      "cell_type": "markdown",
      "metadata": {
        "id": "ZPOrJnpeqmBI"
      },
      "source": [
        "### **Construção do modelo**"
      ]
    },
    {
      "cell_type": "code",
      "metadata": {
        "colab": {
          "base_uri": "https://localhost:8080/"
        },
        "id": "N8DooP7itaim",
        "outputId": "9c69a367-85fc-4066-e2c7-9b5f0f51a87d"
      },
      "source": [
        "vocab_size = 10000\n",
        "\n",
        "model = keras.Sequential()\n",
        "model.add(keras.layers.Embedding(vocab_size, 16))\n",
        "model.add(keras.layers.GlobalAveragePooling1D())\n",
        "model.add(keras.layers.Dense(16, activation='relu'))\n",
        "model.add(keras.layers.Dense(1, activation='sigmoid'))\n",
        "\n",
        "model.summary()"
      ],
      "execution_count": 11,
      "outputs": [
        {
          "output_type": "stream",
          "text": [
            "Model: \"sequential\"\n",
            "_________________________________________________________________\n",
            "Layer (type)                 Output Shape              Param #   \n",
            "=================================================================\n",
            "embedding (Embedding)        (None, None, 16)          160000    \n",
            "_________________________________________________________________\n",
            "global_average_pooling1d (Gl (None, 16)                0         \n",
            "_________________________________________________________________\n",
            "dense (Dense)                (None, 16)                272       \n",
            "_________________________________________________________________\n",
            "dense_1 (Dense)              (None, 1)                 17        \n",
            "=================================================================\n",
            "Total params: 160,289\n",
            "Trainable params: 160,289\n",
            "Non-trainable params: 0\n",
            "_________________________________________________________________\n"
          ],
          "name": "stdout"
        }
      ]
    },
    {
      "cell_type": "markdown",
      "metadata": {
        "id": "ogAa3tpOxA9m"
      },
      "source": [
        "As camadas são empilhadas sequencialmente para construir o classificador, sendo elas:\n",
        "\n",
        "* Embedding \n",
        "* Global Average Pooling 1D (permite retornar um vetor de saída com comprimento fico para cada exemplo, fazendo a média da sequência da dimensão).\n",
        "* Vetor de Saída - Dense\n",
        "* Densely Connected - um único nó de saída usando uma função de ativação **Sigmoid**.\n"
      ]
    },
    {
      "cell_type": "code",
      "metadata": {
        "id": "Ul1JAp1n5BRU"
      },
      "source": [
        "model.compile(optimizer='adam',\n",
        "              loss = 'binary_crossentropy',\n",
        "              metrics=['accuracy'])"
      ],
      "execution_count": 12,
      "outputs": []
    },
    {
      "cell_type": "markdown",
      "metadata": {
        "id": "dXy-yHFh5idQ"
      },
      "source": [
        "###Criando um conjunto de validação"
      ]
    },
    {
      "cell_type": "code",
      "metadata": {
        "id": "BI6ytAEm5hX7"
      },
      "source": [
        "x_val = train_data[:10000]\n",
        "partial_x_train = train_data[10000:]\n",
        "\n",
        "y_val = train_labels[:10000]\n",
        "partial_y_train = train_labels[10000:]\n"
      ],
      "execution_count": 13,
      "outputs": []
    },
    {
      "cell_type": "markdown",
      "metadata": {
        "id": "bxd22Gk86FeJ"
      },
      "source": [
        "### **Treinando o modelo**\n",
        "\n",
        "Treinamento do modelo em 40 epochs com mini-batches de 512 exemplos. "
      ]
    },
    {
      "cell_type": "code",
      "metadata": {
        "colab": {
          "base_uri": "https://localhost:8080/"
        },
        "id": "RpGFRvoq6TpP",
        "outputId": "dc40bfee-8093-42ff-d392-ab4a922b830c"
      },
      "source": [
        "history = model.fit(partial_x_train,\n",
        "                    partial_y_train,\n",
        "                    epochs = 40,\n",
        "                    batch_size = 512,\n",
        "                    validation_data = (x_val, y_val),\n",
        "                    verbose=1)"
      ],
      "execution_count": 14,
      "outputs": [
        {
          "output_type": "stream",
          "text": [
            "Epoch 1/40\n",
            "30/30 [==============================] - 1s 26ms/step - loss: 0.6921 - accuracy: 0.5470 - val_loss: 0.6905 - val_accuracy: 0.5871\n",
            "Epoch 2/40\n",
            "30/30 [==============================] - 1s 20ms/step - loss: 0.6872 - accuracy: 0.6846 - val_loss: 0.6834 - val_accuracy: 0.7414\n",
            "Epoch 3/40\n",
            "30/30 [==============================] - 1s 20ms/step - loss: 0.6761 - accuracy: 0.7528 - val_loss: 0.6696 - val_accuracy: 0.7532\n",
            "Epoch 4/40\n",
            "30/30 [==============================] - 1s 20ms/step - loss: 0.6560 - accuracy: 0.7715 - val_loss: 0.6452 - val_accuracy: 0.7679\n",
            "Epoch 5/40\n",
            "30/30 [==============================] - 1s 21ms/step - loss: 0.6243 - accuracy: 0.7908 - val_loss: 0.6116 - val_accuracy: 0.7682\n",
            "Epoch 6/40\n",
            "30/30 [==============================] - 1s 20ms/step - loss: 0.5836 - accuracy: 0.8064 - val_loss: 0.5715 - val_accuracy: 0.7980\n",
            "Epoch 7/40\n",
            "30/30 [==============================] - 1s 21ms/step - loss: 0.5378 - accuracy: 0.8257 - val_loss: 0.5291 - val_accuracy: 0.8077\n",
            "Epoch 8/40\n",
            "30/30 [==============================] - 1s 21ms/step - loss: 0.4908 - accuracy: 0.8415 - val_loss: 0.4873 - val_accuracy: 0.8286\n",
            "Epoch 9/40\n",
            "30/30 [==============================] - 1s 20ms/step - loss: 0.4456 - accuracy: 0.8575 - val_loss: 0.4489 - val_accuracy: 0.8415\n",
            "Epoch 10/40\n",
            "30/30 [==============================] - 1s 21ms/step - loss: 0.4050 - accuracy: 0.8692 - val_loss: 0.4174 - val_accuracy: 0.8470\n",
            "Epoch 11/40\n",
            "30/30 [==============================] - 1s 21ms/step - loss: 0.3711 - accuracy: 0.8787 - val_loss: 0.3903 - val_accuracy: 0.8576\n",
            "Epoch 12/40\n",
            "30/30 [==============================] - 1s 21ms/step - loss: 0.3419 - accuracy: 0.8873 - val_loss: 0.3691 - val_accuracy: 0.8614\n",
            "Epoch 13/40\n",
            "30/30 [==============================] - 1s 20ms/step - loss: 0.3180 - accuracy: 0.8936 - val_loss: 0.3527 - val_accuracy: 0.8657\n",
            "Epoch 14/40\n",
            "30/30 [==============================] - 1s 20ms/step - loss: 0.2976 - accuracy: 0.8981 - val_loss: 0.3399 - val_accuracy: 0.8697\n",
            "Epoch 15/40\n",
            "30/30 [==============================] - 1s 20ms/step - loss: 0.2799 - accuracy: 0.9033 - val_loss: 0.3281 - val_accuracy: 0.8739\n",
            "Epoch 16/40\n",
            "30/30 [==============================] - 1s 20ms/step - loss: 0.2643 - accuracy: 0.9089 - val_loss: 0.3209 - val_accuracy: 0.8732\n",
            "Epoch 17/40\n",
            "30/30 [==============================] - 1s 20ms/step - loss: 0.2510 - accuracy: 0.9127 - val_loss: 0.3121 - val_accuracy: 0.8779\n",
            "Epoch 18/40\n",
            "30/30 [==============================] - 1s 22ms/step - loss: 0.2374 - accuracy: 0.9184 - val_loss: 0.3058 - val_accuracy: 0.8806\n",
            "Epoch 19/40\n",
            "30/30 [==============================] - 1s 20ms/step - loss: 0.2258 - accuracy: 0.9220 - val_loss: 0.3007 - val_accuracy: 0.8810\n",
            "Epoch 20/40\n",
            "30/30 [==============================] - 1s 20ms/step - loss: 0.2154 - accuracy: 0.9269 - val_loss: 0.2968 - val_accuracy: 0.8817\n",
            "Epoch 21/40\n",
            "30/30 [==============================] - 1s 20ms/step - loss: 0.2055 - accuracy: 0.9300 - val_loss: 0.2934 - val_accuracy: 0.8823\n",
            "Epoch 22/40\n",
            "30/30 [==============================] - 1s 20ms/step - loss: 0.1965 - accuracy: 0.9329 - val_loss: 0.2908 - val_accuracy: 0.8832\n",
            "Epoch 23/40\n",
            "30/30 [==============================] - 1s 19ms/step - loss: 0.1880 - accuracy: 0.9370 - val_loss: 0.2888 - val_accuracy: 0.8846\n",
            "Epoch 24/40\n",
            "30/30 [==============================] - 1s 19ms/step - loss: 0.1803 - accuracy: 0.9408 - val_loss: 0.2871 - val_accuracy: 0.8848\n",
            "Epoch 25/40\n",
            "30/30 [==============================] - 1s 19ms/step - loss: 0.1728 - accuracy: 0.9437 - val_loss: 0.2868 - val_accuracy: 0.8845\n",
            "Epoch 26/40\n",
            "30/30 [==============================] - 1s 20ms/step - loss: 0.1655 - accuracy: 0.9477 - val_loss: 0.2857 - val_accuracy: 0.8844\n",
            "Epoch 27/40\n",
            "30/30 [==============================] - 1s 19ms/step - loss: 0.1590 - accuracy: 0.9499 - val_loss: 0.2852 - val_accuracy: 0.8855\n",
            "Epoch 28/40\n",
            "30/30 [==============================] - 1s 21ms/step - loss: 0.1528 - accuracy: 0.9527 - val_loss: 0.2854 - val_accuracy: 0.8853\n",
            "Epoch 29/40\n",
            "30/30 [==============================] - 1s 21ms/step - loss: 0.1471 - accuracy: 0.9551 - val_loss: 0.2861 - val_accuracy: 0.8849\n",
            "Epoch 30/40\n",
            "30/30 [==============================] - 1s 20ms/step - loss: 0.1411 - accuracy: 0.9577 - val_loss: 0.2874 - val_accuracy: 0.8854\n",
            "Epoch 31/40\n",
            "30/30 [==============================] - 1s 20ms/step - loss: 0.1355 - accuracy: 0.9599 - val_loss: 0.2878 - val_accuracy: 0.8856\n",
            "Epoch 32/40\n",
            "30/30 [==============================] - 1s 19ms/step - loss: 0.1303 - accuracy: 0.9615 - val_loss: 0.2891 - val_accuracy: 0.8850\n",
            "Epoch 33/40\n",
            "30/30 [==============================] - 1s 19ms/step - loss: 0.1259 - accuracy: 0.9637 - val_loss: 0.2909 - val_accuracy: 0.8861\n",
            "Epoch 34/40\n",
            "30/30 [==============================] - 1s 20ms/step - loss: 0.1213 - accuracy: 0.9663 - val_loss: 0.2929 - val_accuracy: 0.8845\n",
            "Epoch 35/40\n",
            "30/30 [==============================] - 1s 20ms/step - loss: 0.1162 - accuracy: 0.9679 - val_loss: 0.2947 - val_accuracy: 0.8858\n",
            "Epoch 36/40\n",
            "30/30 [==============================] - 1s 19ms/step - loss: 0.1122 - accuracy: 0.9687 - val_loss: 0.2970 - val_accuracy: 0.8839\n",
            "Epoch 37/40\n",
            "30/30 [==============================] - 1s 19ms/step - loss: 0.1076 - accuracy: 0.9710 - val_loss: 0.2987 - val_accuracy: 0.8850\n",
            "Epoch 38/40\n",
            "30/30 [==============================] - 1s 19ms/step - loss: 0.1037 - accuracy: 0.9718 - val_loss: 0.3027 - val_accuracy: 0.8843\n",
            "Epoch 39/40\n",
            "30/30 [==============================] - 1s 19ms/step - loss: 0.1001 - accuracy: 0.9730 - val_loss: 0.3047 - val_accuracy: 0.8829\n",
            "Epoch 40/40\n",
            "30/30 [==============================] - 1s 19ms/step - loss: 0.0965 - accuracy: 0.9749 - val_loss: 0.3073 - val_accuracy: 0.8827\n"
          ],
          "name": "stdout"
        }
      ]
    },
    {
      "cell_type": "markdown",
      "metadata": {
        "id": "dLk9cN_EBz38"
      },
      "source": [
        "###**Avaliação do modelo**"
      ]
    },
    {
      "cell_type": "code",
      "metadata": {
        "colab": {
          "base_uri": "https://localhost:8080/"
        },
        "id": "eCnkhzcCCB75",
        "outputId": "cb2107e1-7b54-4157-9c90-30f5ced3738c"
      },
      "source": [
        "results = model.evaluate(test_data, test_labels, verbose=2)\n",
        "print(results)"
      ],
      "execution_count": 15,
      "outputs": [
        {
          "output_type": "stream",
          "text": [
            "782/782 - 1s - loss: 0.3267 - accuracy: 0.8732\n",
            "[0.3267369866371155, 0.8732399940490723]\n"
          ],
          "name": "stdout"
        }
      ]
    },
    {
      "cell_type": "markdown",
      "metadata": {
        "id": "F_eBfDQjCOT9"
      },
      "source": [
        "**Acurácia = 87%**\n",
        "\n",
        "Lembrando que foi treinado com apenas 30 epochs."
      ]
    },
    {
      "cell_type": "code",
      "metadata": {
        "colab": {
          "base_uri": "https://localhost:8080/"
        },
        "id": "fQ1XIR45CdyA",
        "outputId": "0d6c6e4a-256c-4bf5-c551-2162f9ddf3f8"
      },
      "source": [
        "history_dict = history.history\n",
        "history_dict.keys()"
      ],
      "execution_count": 16,
      "outputs": [
        {
          "output_type": "execute_result",
          "data": {
            "text/plain": [
              "dict_keys(['loss', 'accuracy', 'val_loss', 'val_accuracy'])"
            ]
          },
          "metadata": {
            "tags": []
          },
          "execution_count": 16
        }
      ]
    },
    {
      "cell_type": "code",
      "metadata": {
        "colab": {
          "base_uri": "https://localhost:8080/",
          "height": 295
        },
        "id": "67cHpw-jCod6",
        "outputId": "ae42ef27-ab80-4efb-edbe-8bcfaeae1c79"
      },
      "source": [
        "import matplotlib.pyplot as plt\n",
        "\n",
        "acc = history_dict['accuracy']\n",
        "val_acc = history_dict['val_accuracy']\n",
        "loss = history_dict['loss']\n",
        "val_loss = history_dict['val_loss']\n",
        "\n",
        "epochs = range(1, len(acc) + 1)\n",
        "\n",
        "# \"bo\" is for \"blue dot\"\n",
        "plt.plot(epochs, loss, 'bo', label='Treinando função de perda')\n",
        "# b is for \"solid blue line\"\n",
        "plt.plot(epochs, val_loss, 'b', label='Validação de perda')\n",
        "plt.title('Treino e validação de perda')\n",
        "plt.xlabel('Epochs')\n",
        "plt.ylabel('Perda')\n",
        "plt.legend()\n",
        "\n",
        "plt.show()"
      ],
      "execution_count": 19,
      "outputs": [
        {
          "output_type": "display_data",
          "data": {
            "image/png": "[encoded data removed]",
            "text/plain": [
              "<Figure size 432x288 with 1 Axes>"
            ]
          },
          "metadata": {
            "tags": [],
            "needs_background": "light"
          }
        }
      ]
    },
    {
      "cell_type": "code",
      "metadata": {
        "colab": {
          "base_uri": "https://localhost:8080/",
          "height": 295
        },
        "id": "-T-a2t4wMP_a",
        "outputId": "c09dc4d8-41c4-4001-e9e3-fbb91b07dc21"
      },
      "source": [
        "plt.clf()\n",
        "\n",
        "plt.plot(epochs, acc, 'bo', label='Treino de acc')\n",
        "plt.plot(epochs, val_acc, 'b', label=\"Validação de acc\")\n",
        "plt.title(\"Treino e validação de acurácia\")\n",
        "plt.xlabel('Epochs')\n",
        "plt.ylabel('Acurácia')\n",
        "plt.legend()\n",
        "\n",
        "plt.show()"
      ],
      "execution_count": 20,
      "outputs": [
        {
          "output_type": "display_data",
          "data": {
            "image/png": "[encoded data removed]",
            "text/plain": [
              "<Figure size 432x288 with 1 Axes>"
            ]
          },
          "metadata": {
            "tags": [],
            "needs_background": "light"
          }
        }
      ]
    }
  ]
}