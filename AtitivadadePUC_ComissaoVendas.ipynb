{
 "cells":[
  {
   "cell_type":"code",
   "source":[
    "#Importanto bibliotecas\n",
    "import pandas as pd\n",
    "import matplotlib.pyplot as plt\n",
    "import numpy as np\n",
    "import scipy.stats as stats\n",
    "import statsmodels.formula.api as smf\n",
    "import statsmodels.stats.api as sms"
   ],
   "execution_count":20,
   "outputs":[
    
   ],
   "metadata":{
    "datalore":{
     "node_id":"k0SQ9HrU7wrOcNUgNiblbH",
     "type":"CODE",
     "hide_input_from_viewers":false,
     "hide_output_from_viewers":false
    }
   }
  },
  {
   "cell_type":"code",
   "source":[
    "pip install openpyxl"
   ],
   "execution_count":2,
   "outputs":[
    {
     "name":"stdout",
     "text":[
      "Collecting openpyxl\r\n",
      "  Downloading openpyxl-3.0.10-py2.py3-none-any.whl (242 kB)\r\n",
      "\u001b[?25l\r\r     |█▍                              | 10 kB 27.1 MB\/s eta 0:00:01\r     |██▊                             | 20 kB 30.2 MB\/s eta 0:00:01\r     |████                            | 30 kB 36.8 MB\/s eta 0:00:01\r     |█████▍                          | 40 kB 41.2 MB\/s eta 0:00:01\r     |██████▊                         | 51 kB 31.4 MB\/s eta 0:00:01\r     |████████▏                       | 61 kB 34.8 MB\/s eta 0:00:01\r     |█████████▌                      | 71 kB 37.5 MB\/s eta 0:00:01\r     |██████████▉                     | 81 kB 40.1 MB\/s eta 0:00:01\r     |████████████▏                   | 92 kB 39.8 MB\/s eta 0:00:01\r     |█████████████▌                  | 102 kB 40.4 MB\/s eta 0:00:01\r     |██████████████▉                 | 112 kB 40.4 MB\/s eta 0:00:01\r     |████████████████▎               | 122 kB 40.4 MB\/s eta 0:00:01\r     |█████████████████▋              | 133 kB 40.4 MB\/s eta 0:00:01\r     |███████████████████             | 143 kB 40.4 MB\/s eta 0:00:01\r     |████████████████████▎           | 153 kB 40.4 MB\/s eta 0:00:01\r     |█████████████████████▋          | 163 kB 40.4 MB\/s eta 0:00:01\r     |███████████████████████         | 174 kB 40.4 MB\/s eta 0:00:01\r     |████████████████████████▍       | 184 kB 40.4 MB\/s eta 0:00:01\r     |█████████████████████████▊      | 194 kB 40.4 MB\/s eta 0:00:01\r     |███████████████████████████     | 204 kB 40.4 MB\/s eta 0:00:01\r     |████████████████████████████▍   | 215 kB 40.4 MB\/s eta 0:00:01\r     |█████████████████████████████▊  | 225 kB 40.4 MB\/s eta 0:00:01\r     |███████████████████████████████▏| 235 kB 40.4 MB\/s eta 0:00:01\r     |████████████████████████████████| 242 kB 40.4 MB\/s            \r\n",
      "\u001b[?25hCollecting et-xmlfile\r\n",
      "  Downloading et_xmlfile-1.1.0-py3-none-any.whl (4.7 kB)\r\n",
      "Installing collected packages: et-xmlfile, openpyxl\r\n",
      "Successfully installed et-xmlfile-1.1.0 openpyxl-3.0.10\r\n",
      "\u001b[33mWARNING: You are using pip version 21.3.1; however, version 22.2.2 is available.\r\n",
      "You should consider upgrading via the '\/opt\/python\/envs\/default\/bin\/python -m pip install --upgrade pip' command.\u001b[0m\r\n",
      "Note: you may need to restart the kernel to use updated packages.\n"
     ],
     "output_type":"stream"
    }
   ],
   "metadata":{
    "datalore":{
     "node_id":"0JEd5RnEXvULeqCNfJVpZI",
     "type":"CODE",
     "hide_input_from_viewers":false,
     "hide_output_from_viewers":false
    }
   }
  },
  {
   "cell_type":"code",
   "source":[
    "vendas = pd.read_excel('comissao.xlsx')"
   ],
   "execution_count":3,
   "outputs":[
    
   ],
   "metadata":{
    "datalore":{
     "node_id":"fuUqvu5MifM76PE8XLb4X6",
     "type":"CODE",
     "hide_input_from_viewers":false,
     "hide_output_from_viewers":false
    }
   }
  },
  {
   "cell_type":"code",
   "source":[
    "vendas.head()"
   ],
   "execution_count":4,
   "outputs":[
    {
     "data":{
      "text\/html":[
       "<div>\n",
       "<style scoped>\n",
       "    .dataframe tbody tr th:only-of-type {\n",
       "        vertical-align: middle;\n",
       "    }\n",
       "\n",
       "    .dataframe tbody tr th {\n",
       "        vertical-align: top;\n",
       "    }\n",
       "\n",
       "    .dataframe thead th {\n",
       "        text-align: right;\n",
       "    }\n",
       "<\/style>\n",
       "<table border=\"1\" class=\"dataframe\">\n",
       "  <thead>\n",
       "    <tr style=\"text-align: right;\">\n",
       "      <th><\/th>\n",
       "      <th>quantidade<\/th>\n",
       "      <th>comissao<\/th>\n",
       "    <\/tr>\n",
       "  <\/thead>\n",
       "  <tbody>\n",
       "    <tr>\n",
       "      <th>0<\/th>\n",
       "      <td>1<\/td>\n",
       "      <td>728<\/td>\n",
       "    <\/tr>\n",
       "    <tr>\n",
       "      <th>1<\/th>\n",
       "      <td>2<\/td>\n",
       "      <td>762<\/td>\n",
       "    <\/tr>\n",
       "    <tr>\n",
       "      <th>2<\/th>\n",
       "      <td>3<\/td>\n",
       "      <td>802<\/td>\n",
       "    <\/tr>\n",
       "    <tr>\n",
       "      <th>3<\/th>\n",
       "      <td>4<\/td>\n",
       "      <td>848<\/td>\n",
       "    <\/tr>\n",
       "    <tr>\n",
       "      <th>4<\/th>\n",
       "      <td>5<\/td>\n",
       "      <td>900<\/td>\n",
       "    <\/tr>\n",
       "  <\/tbody>\n",
       "<\/table>\n",
       "<\/div>"
      ]
     },
     "metadata":{
      
     },
     "output_type":"display_data"
    }
   ],
   "metadata":{
    "datalore":{
     "node_id":"NJWlSxQ7xzwz5bYd0hlqMx",
     "type":"CODE",
     "hide_input_from_viewers":false,
     "hide_output_from_viewers":false
    }
   }
  },
  {
   "cell_type":"code",
   "source":[
    "vendas.shape"
   ],
   "execution_count":5,
   "outputs":[
    {
     "data":{
      "text\/plain":[
       "(50, 2)"
      ]
     },
     "metadata":{
      
     },
     "output_type":"display_data"
    }
   ],
   "metadata":{
    "datalore":{
     "node_id":"lH4jp1UOFZxPHUlSs1ePn2",
     "type":"CODE",
     "hide_input_from_viewers":false,
     "hide_output_from_viewers":false
    }
   }
  },
  {
   "cell_type":"code",
   "source":[
    "vendas.dtypes"
   ],
   "execution_count":6,
   "outputs":[
    {
     "data":{
      "text\/html":[
       
      ]
     },
     "metadata":{
      
     },
     "output_type":"display_data"
    }
   ],
   "metadata":{
    "datalore":{
     "node_id":"9tpVOA1fZ5ogoSXeE2OUBe",
     "type":"CODE",
     "hide_input_from_viewers":false,
     "hide_output_from_viewers":false
    }
   }
  },
  {
   "cell_type":"code",
   "source":[
    "#Passando comissão de inteiro para real\n",
    "vendas = vendas.astype({\"comissao\": float})"
   ],
   "execution_count":7,
   "outputs":[
    
   ],
   "metadata":{
    "datalore":{
     "node_id":"Jqwdna2K2aRg9Y7hvVQATV",
     "type":"CODE",
     "hide_input_from_viewers":false,
     "hide_output_from_viewers":false
    }
   }
  },
  {
   "cell_type":"code",
   "source":[
    "vendas.dtypes"
   ],
   "execution_count":8,
   "outputs":[
    {
     "data":{
      "text\/html":[
       
      ]
     },
     "metadata":{
      
     },
     "output_type":"display_data"
    }
   ],
   "metadata":{
    "datalore":{
     "node_id":"Og6byCQL00BFzPgc6DNmW0",
     "type":"CODE",
     "hide_input_from_viewers":false,
     "hide_output_from_viewers":false
    }
   }
  },
  {
   "cell_type":"markdown",
   "source":[
    "### Valores faltando ? - NAN"
   ],
   "attachments":{
    
   },
   "metadata":{
    "datalore":{
     "node_id":"VnCo8PTK9pwbOt0qUMk540",
     "type":"MD",
     "hide_input_from_viewers":false,
     "hide_output_from_viewers":false
    }
   }
  },
  {
   "cell_type":"code",
   "source":[
    "vendas.isnull().sum()"
   ],
   "execution_count":9,
   "outputs":[
    {
     "data":{
      "text\/html":[
       
      ]
     },
     "metadata":{
      
     },
     "output_type":"display_data"
    }
   ],
   "metadata":{
    "datalore":{
     "node_id":"wr9AQjnnDBbhUxm3sSJa7n",
     "type":"CODE",
     "hide_input_from_viewers":false,
     "hide_output_from_viewers":false
    }
   }
  },
  {
   "cell_type":"markdown",
   "source":[
    "### Análise dos Dados"
   ],
   "attachments":{
    
   },
   "metadata":{
    "datalore":{
     "node_id":"gBZDNxK9z6LQcDyPZMR4NA",
     "type":"MD",
     "hide_input_from_viewers":false,
     "hide_output_from_viewers":false
    }
   }
  },
  {
   "cell_type":"code",
   "source":[
    "plt.scatter(vendas.quantidade, vendas.comissao)\n",
    "plt.title('Correlação')\n",
    "plt.xlabel('Quantidade')\n",
    "plt.ylabel('Comissao')\n",
    "plt.grid(True)\n",
    "plt.show()"
   ],
   "execution_count":10,
   "outputs":[
    {
     "data":{
      "image\/png":"[encoded data removed]"
     },
     "metadata":{
      "image\/png":{
       
      }
     },
     "output_type":"display_data"
    }
   ],
   "metadata":{
    "datalore":{
     "node_id":"67s8CTEp1FxxJIlVrUZtyO",
     "type":"CODE",
     "hide_input_from_viewers":false,
     "hide_output_from_viewers":false
    }
   }
  },
  {
   "cell_type":"markdown",
   "source":[
    "### Normalidade\n",
    "\n",
    "Teste de Shapiro: "
   ],
   "attachments":{
    
   },
   "metadata":{
    "datalore":{
     "node_id":"mYrHnBnLXNvqaES1ngFUeu",
     "type":"MD",
     "hide_input_from_viewers":false,
     "hide_output_from_viewers":false
    }
   }
  },
  {
   "cell_type":"code",
   "source":[
    "stats.probplot(vendas['comissao'], dist='norm', plot=plt)\n",
    "plt.show()"
   ],
   "execution_count":11,
   "outputs":[
    {
     "data":{
      "image\/png":"[encoded data removed]"
     },
     "metadata":{
      "image\/png":{
       
      }
     },
     "output_type":"display_data"
    }
   ],
   "metadata":{
    "datalore":{
     "node_id":"parM9xVmpvie3vuclILDzK",
     "type":"CODE",
     "hide_input_from_viewers":false,
     "hide_output_from_viewers":false
    }
   }
  },
  {
   "cell_type":"code",
   "source":[
    "estatistica, p = stats.shapiro(vendas.comissao)\n",
    "print(p)"
   ],
   "execution_count":12,
   "outputs":[
    {
     "name":"stdout",
     "text":[
      "0.0012719858204945922\n"
     ],
     "output_type":"stream"
    }
   ],
   "metadata":{
    "datalore":{
     "node_id":"FyMp91tWDQUOO7CXpeMIwD",
     "type":"CODE",
     "hide_input_from_viewers":false,
     "hide_output_from_viewers":false
    }
   }
  },
  {
   "cell_type":"markdown",
   "source":[
    "**Logo, a distribuição não é normal.**\n",
    "\n",
    "Visto que:\n",
    "\n",
    "**H0** = distriubuição normal p > 0.05\n",
    "\n",
    "**Ha** = distribuição não normal p <= 0.5"
   ],
   "attachments":{
    
   },
   "metadata":{
    "datalore":{
     "node_id":"hgQ7ljTm26gziPdydLPNWT",
     "type":"MD",
     "hide_input_from_viewers":false,
     "hide_output_from_viewers":false
    }
   }
  },
  {
   "cell_type":"code",
   "source":[
    "coef, p = stats.pearsonr(vendas.quantidade, vendas.comissao)"
   ],
   "execution_count":13,
   "outputs":[
    
   ],
   "metadata":{
    "datalore":{
     "node_id":"gM6h5bsZQ4CXq2Oh53nuH8",
     "type":"CODE",
     "hide_input_from_viewers":false,
     "hide_output_from_viewers":false
    }
   }
  },
  {
   "cell_type":"code",
   "source":[
    "coef"
   ],
   "execution_count":14,
   "outputs":[
    {
     "data":{
      "text\/plain":[
       "0.9771727342426183"
      ]
     },
     "metadata":{
      
     },
     "output_type":"display_data"
    }
   ],
   "metadata":{
    "datalore":{
     "node_id":"BR1y2mivC8DQi73rf00ksi",
     "type":"CODE",
     "hide_input_from_viewers":false,
     "hide_output_from_viewers":false
    }
   }
  },
  {
   "cell_type":"code",
   "source":[
    "p"
   ],
   "execution_count":15,
   "outputs":[
    {
     "data":{
      "text\/plain":[
       "5.979169551432808e-34"
      ]
     },
     "metadata":{
      
     },
     "output_type":"display_data"
    }
   ],
   "metadata":{
    "datalore":{
     "node_id":"BigmxjuxqEyFfGUSnoOHq3",
     "type":"CODE",
     "hide_input_from_viewers":false,
     "hide_output_from_viewers":false
    }
   }
  },
  {
   "cell_type":"markdown",
   "source":[
    "### Regressão Linear"
   ],
   "attachments":{
    
   },
   "metadata":{
    "datalore":{
     "node_id":"8jpPATPUtW0JeltEExnYDT",
     "type":"MD",
     "hide_input_from_viewers":false,
     "hide_output_from_viewers":false
    }
   }
  },
  {
   "cell_type":"code",
   "source":[
    "regressao = smf.ols('comissao ~ quantidade', data = vendas).fit()"
   ],
   "execution_count":16,
   "outputs":[
    
   ],
   "metadata":{
    "datalore":{
     "node_id":"izat1eQmZmC5gRs39WBdM3",
     "type":"CODE",
     "hide_input_from_viewers":false,
     "hide_output_from_viewers":false
    }
   }
  },
  {
   "cell_type":"code",
   "source":[
    "print(regressao.summary())"
   ],
   "execution_count":17,
   "outputs":[
    {
     "name":"stdout",
     "text":[
      "                            OLS Regression Results                            \n",
      "==============================================================================\n",
      "Dep. Variable:               comissao   R-squared:                       0.955\n",
      "Model:                            OLS   Adj. R-squared:                  0.954\n",
      "Method:                 Least Squares   F-statistic:                     1016.\n",
      "Date:                Thu, 13 Oct 2022   Prob (F-statistic):           5.98e-34\n",
      "Time:                        14:24:26   Log-Likelihood:                -387.21\n",
      "No. Observations:                  50   AIC:                             778.4\n",
      "Df Residuals:                      48   BIC:                             782.2\n",
      "Df Model:                           1                                         \n",
      "Covariance Type:            nonrobust                                         \n",
      "==============================================================================\n",
      "                 coef    std err          t      P>|t|      [0.025      0.975]\n",
      "------------------------------------------------------------------------------\n",
      "Intercept   -626.0000    163.662     -3.825      0.000    -955.064    -296.936\n",
      "quantidade   178.0000      5.586     31.867      0.000     166.769     189.231\n",
      "==============================================================================\n",
      "Omnibus:                        6.733   Durbin-Watson:                   0.023\n",
      "Prob(Omnibus):                  0.035   Jarque-Bera (JB):                4.932\n",
      "Skew:                           0.635   Prob(JB):                       0.0849\n",
      "Kurtosis:                       2.133   Cond. No.                         59.5\n",
      "==============================================================================\n",
      "\n",
      "Notes:\n",
      "[1] Standard Errors assume that the covariance matrix of the errors is correctly specified.\n"
     ],
     "output_type":"stream"
    }
   ],
   "metadata":{
    "datalore":{
     "node_id":"zZT8QeWOXyoEquAkfmTVXg",
     "type":"CODE",
     "hide_input_from_viewers":false,
     "hide_output_from_viewers":false
    }
   }
  },
  {
   "cell_type":"markdown",
   "source":[
    "- R2 = 0,95\n",
    "- Prob. Estatística F = 5.98e-34\n",
    "- Equação - Comissão = -626 + 178  \n",
    "- R2 ajustado = 0,954"
   ],
   "attachments":{
    
   },
   "metadata":{
    "datalore":{
     "node_id":"l4VfE7GYgncrr4p4rxLDQE",
     "type":"MD",
     "hide_input_from_viewers":false,
     "hide_output_from_viewers":false
    }
   }
  },
  {
   "cell_type":"code",
   "source":[
    "plt.scatter(y = vendas.comissao, x = vendas.quantidade, color = 'blue', s = 50, alpha = 0.6)\n",
    "X_plot = np.linspace(0, 70)\n",
    "plt.plot(X_plot, X_plot*regressao.params[1], + regressao.params[0], color = 'r')\n",
    "plt.title('Reta de regressão')\n",
    "plt.ylabel('Comissão')\n",
    "plt.xlabel('Quantidade')\n",
    "plt.show()"
   ],
   "execution_count":23,
   "outputs":[
    {
     "data":{
      "image\/png":"[encoded data removed]"
     },
     "metadata":{
      "image\/png":{
       
      }
     },
     "output_type":"display_data"
    }
   ],
   "metadata":{
    "datalore":{
     "node_id":"qEKnColuiNUGkGcIkS8EJN",
     "type":"CODE",
     "hide_input_from_viewers":false,
     "hide_output_from_viewers":false
    }
   }
  },
  {
   "cell_type":"markdown",
   "source":[
    "### Regressão Polinomial com Numpy - Grau 2"
   ],
   "attachments":{
    
   },
   "metadata":{
    "datalore":{
     "node_id":"t4Yq1LT0vcYyBo1hR6Dadb",
     "type":"MD",
     "hide_input_from_viewers":false,
     "hide_output_from_viewers":false
    }
   }
  },
  {
   "cell_type":"code",
   "source":[
    "modelo2 = np.poly1d(np.polyfit(vendas.quantidade, vendas.comissao, 2))"
   ],
   "execution_count":24,
   "outputs":[
    
   ],
   "metadata":{
    "datalore":{
     "node_id":"HWw0YIN824m80yP0NpknXB",
     "type":"CODE",
     "hide_input_from_viewers":false,
     "hide_output_from_viewers":false
    }
   }
  },
  {
   "cell_type":"code",
   "source":[
    "y2 = modelo2(vendas.quantidade)\n",
    "y2"
   ],
   "execution_count":25,
   "outputs":[
    {
     "data":{
      "text\/html":[
       
      ]
     },
     "metadata":{
      
     },
     "output_type":"display_data"
    }
   ],
   "metadata":{
    "datalore":{
     "node_id":"mzMc5k0iSw8eS6ksfjVo4Q",
     "type":"CODE",
     "hide_input_from_viewers":false,
     "hide_output_from_viewers":false
    }
   }
  },
  {
   "cell_type":"code",
   "source":[
    "modelo2.coef"
   ],
   "execution_count":26,
   "outputs":[
    {
     "data":{
      "text\/html":[
       
      ]
     },
     "metadata":{
      
     },
     "output_type":"display_data"
    }
   ],
   "metadata":{
    "datalore":{
     "node_id":"p7lx7tiOQXjLpYlvuArsXP",
     "type":"CODE",
     "hide_input_from_viewers":false,
     "hide_output_from_viewers":false
    }
   }
  },
  {
   "cell_type":"code",
   "source":[
    "print('Equação: COMISSÃO = {:.1f} + {:.1f}*quantidade + {:.1f}*quantidade^2'.format(modelo2.coef[2], modelo2.coef[1], modelo2.coef[0])) "
   ],
   "execution_count":37,
   "outputs":[
    {
     "name":"stdout",
     "text":[
      "Equação: COMISSÃO = 700.0 + 25.0*quantidade + 3.0*quantidade^2\n"
     ],
     "output_type":"stream"
    }
   ],
   "metadata":{
    "datalore":{
     "node_id":"jXY7H7o7dwhM583Zgz9Zut",
     "type":"CODE",
     "hide_input_from_viewers":false,
     "hide_output_from_viewers":false
    }
   }
  },
  {
   "cell_type":"markdown",
   "source":[
    "### Regressão Polinomial com Numpy - Grau 3"
   ],
   "attachments":{
    
   },
   "metadata":{
    "datalore":{
     "node_id":"FIDlChdz3JzntrW3JVXSGG",
     "type":"MD",
     "hide_input_from_viewers":false,
     "hide_output_from_viewers":false
    }
   }
  },
  {
   "cell_type":"code",
   "source":[
    "modelo3 = np.poly1d(np.polyfit(vendas.quantidade, vendas.comissao, 3))"
   ],
   "execution_count":38,
   "outputs":[
    
   ],
   "metadata":{
    "datalore":{
     "node_id":"iBpsgSuLNxmetuWhTSZPC6",
     "type":"CODE",
     "hide_input_from_viewers":false,
     "hide_output_from_viewers":false
    }
   }
  },
  {
   "cell_type":"code",
   "source":[
    "y3 = modelo3(vendas.quantidade)\n",
    "y3"
   ],
   "execution_count":39,
   "outputs":[
    {
     "data":{
      "text\/html":[
       
      ]
     },
     "metadata":{
      
     },
     "output_type":"display_data"
    }
   ],
   "metadata":{
    "datalore":{
     "node_id":"RneBng4JgVSA1FC9nWabdD",
     "type":"CODE",
     "hide_input_from_viewers":false,
     "hide_output_from_viewers":false
    }
   }
  },
  {
   "cell_type":"code",
   "source":[
    "print(\"Equação: COMISSÃO = {:.1f} + {:.1f}*quantidade + {:.1f}*quantidade^2 + {:.1f}*quantidade^3\".format(modelo3.coef[3], modelo3.coef[2], modelo3.coef[1], modelo3.coef[0]))"
   ],
   "execution_count":43,
   "outputs":[
    {
     "name":"stdout",
     "text":[
      "Equação: COMISSÃO = 700.0 + 25.0*quantidade + 3.0*quantidade^2 + 0.0*quantidade^3\n"
     ],
     "output_type":"stream"
    }
   ],
   "metadata":{
    "datalore":{
     "node_id":"G9omO1kD83xR2e1fWIa56j",
     "type":"CODE",
     "hide_input_from_viewers":false,
     "hide_output_from_viewers":false
    }
   }
  },
  {
   "cell_type":"code",
   "source":[
    "plt.scatter(vendas.quantidade, vendas.comissao)\n",
    "plt.plot(vendas.quantidade,y3,color='red');"
   ],
   "execution_count":44,
   "outputs":[
    {
     "data":{
      "image\/png":"[encoded data removed]"
     },
     "metadata":{
      "image\/png":{
       
      }
     },
     "output_type":"display_data"
    }
   ],
   "metadata":{
    "datalore":{
     "node_id":"N5huDzUEH2tLJZbPxroM4x",
     "type":"CODE",
     "hide_input_from_viewers":false,
     "hide_output_from_viewers":false
    }
   }
  },
  {
   "cell_type":"markdown",
   "source":[
    "### Regressão Polinomial com Sklearn"
   ],
   "attachments":{
    
   },
   "metadata":{
    "datalore":{
     "node_id":"kINbi3bjZv0g7mahuEPtd9",
     "type":"MD",
     "hide_input_from_viewers":false,
     "hide_output_from_viewers":false
    }
   }
  },
  {
   "cell_type":"code",
   "source":[
    "from sklearn.preprocessing import PolynomialFeatures\n",
    "from sklearn.linear_model import LinearRegression"
   ],
   "execution_count":45,
   "outputs":[
    
   ],
   "metadata":{
    "datalore":{
     "node_id":"3QsNx0mypZsQKTRNj6lxiA",
     "type":"CODE",
     "hide_input_from_viewers":false,
     "hide_output_from_viewers":false
    }
   }
  },
  {
   "cell_type":"code",
   "source":[
    "pre_process = PolynomialFeatures(degree = 2)"
   ],
   "execution_count":51,
   "outputs":[
    
   ],
   "metadata":{
    "datalore":{
     "node_id":"RWFGCnNv1vd2XwyuhIMISo",
     "type":"CODE",
     "hide_input_from_viewers":false,
     "hide_output_from_viewers":false
    }
   }
  },
  {
   "cell_type":"code",
   "source":[
    "x = vendas[['quantidade']]\n",
    "y = vendas.comissao"
   ],
   "execution_count":47,
   "outputs":[
    
   ],
   "metadata":{
    "datalore":{
     "node_id":"VHRjXbOav3WjCz4xt7VA3z",
     "type":"CODE",
     "hide_input_from_viewers":false,
     "hide_output_from_viewers":false
    }
   }
  },
  {
   "cell_type":"code",
   "source":[
    "x.head()"
   ],
   "execution_count":48,
   "outputs":[
    {
     "data":{
      "text\/html":[
       "<div>\n",
       "<style scoped>\n",
       "    .dataframe tbody tr th:only-of-type {\n",
       "        vertical-align: middle;\n",
       "    }\n",
       "\n",
       "    .dataframe tbody tr th {\n",
       "        vertical-align: top;\n",
       "    }\n",
       "\n",
       "    .dataframe thead th {\n",
       "        text-align: right;\n",
       "    }\n",
       "<\/style>\n",
       "<table border=\"1\" class=\"dataframe\">\n",
       "  <thead>\n",
       "    <tr style=\"text-align: right;\">\n",
       "      <th><\/th>\n",
       "      <th>quantidade<\/th>\n",
       "    <\/tr>\n",
       "  <\/thead>\n",
       "  <tbody>\n",
       "    <tr>\n",
       "      <th>0<\/th>\n",
       "      <td>1<\/td>\n",
       "    <\/tr>\n",
       "    <tr>\n",
       "      <th>1<\/th>\n",
       "      <td>2<\/td>\n",
       "    <\/tr>\n",
       "    <tr>\n",
       "      <th>2<\/th>\n",
       "      <td>3<\/td>\n",
       "    <\/tr>\n",
       "    <tr>\n",
       "      <th>3<\/th>\n",
       "      <td>4<\/td>\n",
       "    <\/tr>\n",
       "    <tr>\n",
       "      <th>4<\/th>\n",
       "      <td>5<\/td>\n",
       "    <\/tr>\n",
       "  <\/tbody>\n",
       "<\/table>\n",
       "<\/div>"
      ]
     },
     "metadata":{
      
     },
     "output_type":"display_data"
    }
   ],
   "metadata":{
    "datalore":{
     "node_id":"Psq3makq2Y47yaUpfFPIFi",
     "type":"CODE",
     "hide_input_from_viewers":false,
     "hide_output_from_viewers":false
    }
   }
  },
  {
   "cell_type":"code",
   "source":[
    "x_poly = pre_process.fit_transform(x)"
   ],
   "execution_count":49,
   "outputs":[
    
   ],
   "metadata":{
    "datalore":{
     "node_id":"4U71Ch9uzR5aBhS3Zpv0m9",
     "type":"CODE",
     "hide_input_from_viewers":false,
     "hide_output_from_viewers":false
    }
   }
  },
  {
   "cell_type":"code",
   "source":[
    "x_poly"
   ],
   "execution_count":50,
   "outputs":[
    {
     "data":{
      "text\/html":[
       
      ]
     },
     "metadata":{
      
     },
     "output_type":"display_data"
    }
   ],
   "metadata":{
    "datalore":{
     "node_id":"RJOg4uta4QJykNCpWWAvNk",
     "type":"CODE",
     "hide_input_from_viewers":false,
     "hide_output_from_viewers":false
    }
   }
  },
  {
   "cell_type":"code",
   "source":[
    "# Criação do Modelo\n",
    "modelo_sk = LinearRegression()"
   ],
   "execution_count":52,
   "outputs":[
    
   ],
   "metadata":{
    "datalore":{
     "node_id":"7WaGsrtFzbg96fW8bPLHqa",
     "type":"CODE",
     "hide_input_from_viewers":false,
     "hide_output_from_viewers":false
    }
   }
  },
  {
   "cell_type":"code",
   "source":[
    "modelo_sk.fit(x_poly, y)"
   ],
   "execution_count":53,
   "outputs":[
    {
     "data":{
      "text\/plain":[
       "LinearRegression()"
      ]
     },
     "metadata":{
      
     },
     "output_type":"display_data"
    }
   ],
   "metadata":{
    "datalore":{
     "node_id":"qh5lsmR8stwEC4KtMaNkhq",
     "type":"CODE",
     "hide_input_from_viewers":false,
     "hide_output_from_viewers":false
    }
   }
  },
  {
   "cell_type":"code",
   "source":[
    "y_pred = modelo_sk.predict(x_poly)"
   ],
   "execution_count":54,
   "outputs":[
    
   ],
   "metadata":{
    "datalore":{
     "node_id":"RJO5couINLJGCRZpqlAxoA",
     "type":"CODE",
     "hide_input_from_viewers":false,
     "hide_output_from_viewers":false
    }
   }
  },
  {
   "cell_type":"code",
   "source":[
    "plt.scatter(x, y, c = \"gray\")\n",
    "plt.xlabel(\"Quantidade\")\n",
    "plt.ylabel(\"Comissão\")\n",
    "plt.plot(x, y_pred);"
   ],
   "execution_count":55,
   "outputs":[
    {
     "data":{
      "image\/png":"[encoded data removed]"
     },
     "metadata":{
      "image\/png":{
       
      }
     },
     "output_type":"display_data"
    }
   ],
   "metadata":{
    "datalore":{
     "node_id":"Twjk9kZ5G7NW2MEufS991L",
     "type":"CODE",
     "hide_input_from_viewers":false,
     "hide_output_from_viewers":false
    }
   }
  },
  {
   "cell_type":"code",
   "source":[
    "modelo_sk.coef_"
   ],
   "execution_count":56,
   "outputs":[
    {
     "data":{
      "text\/html":[
       
      ]
     },
     "metadata":{
      
     },
     "output_type":"display_data"
    }
   ],
   "metadata":{
    "datalore":{
     "node_id":"XGiF3c0bNx9fu2a2bSCPRw",
     "type":"CODE",
     "hide_input_from_viewers":false,
     "hide_output_from_viewers":false
    }
   }
  },
  {
   "cell_type":"code",
   "source":[
    "modelo_sk.intercept_"
   ],
   "execution_count":57,
   "outputs":[
    {
     "data":{
      "text\/plain":[
       "700.0000000000059"
      ]
     },
     "metadata":{
      
     },
     "output_type":"display_data"
    }
   ],
   "metadata":{
    "datalore":{
     "node_id":"SF0HRlim00Yaha53CCEr7b",
     "type":"CODE",
     "hide_input_from_viewers":false,
     "hide_output_from_viewers":false
    }
   }
  },
  {
   "cell_type":"code",
   "source":[
    "print(\"Equação: COMISSÃO = {:.1f} + {:.1f}*quantidade + {:.1f}*quantidade^2\".format(modelo_sk.intercept_, modelo_sk.coef_[1], modelo_sk.coef_[2]))"
   ],
   "execution_count":58,
   "outputs":[
    {
     "name":"stdout",
     "text":[
      "Equação: COMISSÃO = 700.0 + 25.0*quantidade + 3.0*quantidade^2\n"
     ],
     "output_type":"stream"
    }
   ],
   "metadata":{
    "datalore":{
     "node_id":"5wWV0ypPl0fNxw5g4f8nMj",
     "type":"CODE",
     "hide_input_from_viewers":false,
     "hide_output_from_viewers":false
    }
   }
  },
  {
   "cell_type":"markdown",
   "source":[
    "### Previsão"
   ],
   "attachments":{
    
   },
   "metadata":{
    "datalore":{
     "node_id":"PHLe0uScnvIBw9Uxc3BvJi",
     "type":"MD",
     "hide_input_from_viewers":false,
     "hide_output_from_viewers":false
    }
   }
  },
  {
   "cell_type":"code",
   "source":[
    "quantidade = 72\n",
    "previsao = modelo_sk.predict(pre_process.fit_transform([[quantidade]]))\n",
    "print(\"Se vender {}, irá ganhar {:.2f} reais de comissão\".format(quantidade, previsao[0]))"
   ],
   "execution_count":59,
   "outputs":[
    {
     "name":"stdout",
     "text":[
      "Se vender 72, irá ganhar 18052.00 reais de comissão\n"
     ],
     "output_type":"stream"
    }
   ],
   "metadata":{
    "datalore":{
     "node_id":"lrMlN0kfwaJhvScbjOszu5",
     "type":"CODE",
     "hide_input_from_viewers":false,
     "hide_output_from_viewers":false
    }
   }
  },
  {
   "cell_type":"code",
   "source":[
    "# Gráfico com valor previsto\n",
    "plt.scatter(x, y, c = \"gray\")\n",
    "plt.xlabel(\"Quantidade\")\n",
    "plt.ylabel(\"Comissão\")\n",
    "plt.plot(x, y_pred)\n",
    "plt.scatter(72, previsao, c = \"red\");"
   ],
   "execution_count":60,
   "outputs":[
    {
     "data":{
      "image\/png":"[encoded data removed]"
     },
     "metadata":{
      "image\/png":{
       
      }
     },
     "output_type":"display_data"
    }
   ],
   "metadata":{
    "datalore":{
     "node_id":"o9ChbgDtAlU1DMyehmJhg5",
     "type":"CODE",
     "hide_input_from_viewers":false,
     "hide_output_from_viewers":false
    }
   }
  },
  {
   "cell_type":"markdown",
   "source":[
    "### Avaliação do modelo"
   ],
   "attachments":{
    
   },
   "metadata":{
    "datalore":{
     "node_id":"vbgVxmgyo9spT26dYUW9MT",
     "type":"MD",
     "hide_input_from_viewers":false,
     "hide_output_from_viewers":false
    }
   }
  },
  {
   "cell_type":"code",
   "source":[
    "import sklearn.metrics"
   ],
   "execution_count":68,
   "outputs":[
    
   ],
   "metadata":{
    "datalore":{
     "node_id":"VAwg8mdvuxaIBUJuQT3O8O",
     "type":"CODE",
     "hide_input_from_viewers":false,
     "hide_output_from_viewers":false
    }
   }
  },
  {
   "cell_type":"code",
   "source":[
    "# Erro médio quadrático (MSE)\n",
    "mean_squared_error(y, y_pred)"
   ],
   "execution_count":69,
   "outputs":[
    {
     "data":{
      "text\/plain":[
       "7.423687503722e-24"
      ]
     },
     "metadata":{
      
     },
     "output_type":"display_data"
    }
   ],
   "metadata":{
    "datalore":{
     "node_id":"uThcu16XEiCulPvZbXvO25",
     "type":"CODE",
     "hide_input_from_viewers":false,
     "hide_output_from_viewers":false
    }
   }
  },
  {
   "cell_type":"code",
   "source":[
    "# Erro médio absoluto (MAE)\n",
    "mean_absolute_error(y, y_pred)"
   ],
   "execution_count":70,
   "outputs":[
    {
     "data":{
      "text\/plain":[
       "2.3169377527665346e-12"
      ]
     },
     "metadata":{
      
     },
     "output_type":"display_data"
    }
   ],
   "metadata":{
    "datalore":{
     "node_id":"Efd3BFEqGX6O1iEK5SHd1w",
     "type":"CODE",
     "hide_input_from_viewers":false,
     "hide_output_from_viewers":false
    }
   }
  }
 ],
 "metadata":{
  "kernelspec":{
   "display_name":"Python",
   "language":"python",
   "name":"python"
  },
  "datalore":{
   "version":1,
   "computation_mode":"JUPYTER",
   "package_manager":"pip",
   "base_environment":"default",
   "packages":[
    
   ]
  }
 },
 "nbformat":4,
 "nbformat_minor":4
}