{
  "nbformat": 4,
  "nbformat_minor": 0,
  "metadata": {
    "colab": {
      "name": "SetembroAmarelo.ipynb",
      "provenance": [],
      "collapsed_sections": [],
      "authorship_tag": "ABX9TyNT6MEW+Ie09fEikDvx0xW1"
    },
    "kernelspec": {
      "name": "python3",
      "display_name": "Python 3"
    },
    "language_info": {
      "name": "python"
    }
  },
  "cells": [
    {
      "cell_type": "markdown",
      "metadata": {
        "id": "YC6N740JDvHx"
      },
      "source": [
        "# **Análise de Dados de Taxa de suicídios entre os anos de 1985 e 2016**"
      ]
    },
    {
      "cell_type": "markdown",
      "metadata": {
        "id": "yknoBUFaE0bf"
      },
      "source": [
        "As análises de dados apresentadas abaixo foram ensinadas e apresentadas pelo professor/youtuber Carlos Melo (https://www.youtube.com/watch?v=vN3upvFYwJ0) onde é possível analisar as taxas de suicídio no Brasil nos últimos anos.\n",
        "\n",
        "Escolhi utilizar essa análise apresentada pelo Carlos como uma forma de aprender e aplicar os metódos de análise utilizando python e suas bibliotecas.\n",
        "\n",
        "Além disso, fui capaz de continuar a análise começada por ele como forma de prosseguir com os estudos.\n",
        "\n",
        "\n",
        "---\n",
        "\n"
      ]
    },
    {
      "cell_type": "markdown",
      "metadata": {
        "id": "WXBy13LCFtra"
      },
      "source": [
        "\n",
        "O tema \"suicídio\" tem ganhado mais atenção devido ao Setembro amarelo, que é uma campanha brasileira de prevenção ao suicídio.\n",
        "Como vai ser possível observar, a campanha é extremamente necessária devido ao aumento de casos nos útlimos anos.\n",
        "\n",
        "---\n",
        "\n",
        "Os dados utilizados para esse estudo foram coletados no seguinte Dataset: https://www.kaggle.com/russellyates88/suicide-rates-overview-1985-to-2016\n",
        "\n",
        "De acordo com o professor, esse Dataset é o mais completo sobre o assunto no momento."
      ]
    },
    {
      "cell_type": "code",
      "metadata": {
        "id": "Nn3Vw0jSBe7O"
      },
      "source": [
        "#importar pacotes\n",
        "import numpy as np\n",
        "import pandas as pd\n",
        "import matplotlib.pyplot as plt\n",
        "import seaborn as sns\n",
        "\n",
        "\n",
        "%matplotlib inline"
      ],
      "execution_count": 52,
      "outputs": []
    },
    {
      "cell_type": "code",
      "metadata": {
        "id": "A91BBLWCDI2w"
      },
      "source": [
        "#importando dados do CSV\n",
        "df = pd.read_csv(\"https://raw.githubusercontent.com/keziacamposcs/SetembroAmarelo/main/master.csv\")"
      ],
      "execution_count": 53,
      "outputs": []
    },
    {
      "cell_type": "code",
      "metadata": {
        "colab": {
          "base_uri": "https://localhost:8080/",
          "height": 221
        },
        "id": "e-JT7F7gDY_V",
        "outputId": "3285cad2-2fd8-483d-98d9-4dbeca1354cc"
      },
      "source": [
        "#Ver Formato do DataFrame\n",
        "print(\"Formato do DataFrame: \", df.shape)\n",
        "\n",
        "\n",
        "#Ver as 5 primeiras entradas do dataset\n",
        "df.head()"
      ],
      "execution_count": 54,
      "outputs": [
        {
          "output_type": "stream",
          "text": [
            "Formato do DataFrame:  (27820, 12)\n"
          ],
          "name": "stdout"
        },
        {
          "output_type": "execute_result",
          "data": {
            "text/html": [
              "<div>\n",
              "<style scoped>\n",
              "    .dataframe tbody tr th:only-of-type {\n",
              "        vertical-align: middle;\n",
              "    }\n",
              "\n",
              "    .dataframe tbody tr th {\n",
              "        vertical-align: top;\n",
              "    }\n",
              "\n",
              "    .dataframe thead th {\n",
              "        text-align: right;\n",
              "    }\n",
              "</style>\n",
              "<table border=\"1\" class=\"dataframe\">\n",
              "  <thead>\n",
              "    <tr style=\"text-align: right;\">\n",
              "      <th></th>\n",
              "      <th>country</th>\n",
              "      <th>year</th>\n",
              "      <th>sex</th>\n",
              "      <th>age</th>\n",
              "      <th>suicides_no</th>\n",
              "      <th>population</th>\n",
              "      <th>suicides/100k pop</th>\n",
              "      <th>country-year</th>\n",
              "      <th>HDI for year</th>\n",
              "      <th>gdp_for_year</th>\n",
              "      <th>gdp_per_capita</th>\n",
              "      <th>generation</th>\n",
              "    </tr>\n",
              "  </thead>\n",
              "  <tbody>\n",
              "    <tr>\n",
              "      <th>0</th>\n",
              "      <td>Albania</td>\n",
              "      <td>1987</td>\n",
              "      <td>male</td>\n",
              "      <td>15-24 years</td>\n",
              "      <td>21</td>\n",
              "      <td>312900</td>\n",
              "      <td>6.71</td>\n",
              "      <td>Albania1987</td>\n",
              "      <td>NaN</td>\n",
              "      <td>2,156,624,900</td>\n",
              "      <td>796</td>\n",
              "      <td>Generation X</td>\n",
              "    </tr>\n",
              "    <tr>\n",
              "      <th>1</th>\n",
              "      <td>Albania</td>\n",
              "      <td>1987</td>\n",
              "      <td>male</td>\n",
              "      <td>35-54 years</td>\n",
              "      <td>16</td>\n",
              "      <td>308000</td>\n",
              "      <td>5.19</td>\n",
              "      <td>Albania1987</td>\n",
              "      <td>NaN</td>\n",
              "      <td>2,156,624,900</td>\n",
              "      <td>796</td>\n",
              "      <td>Silent</td>\n",
              "    </tr>\n",
              "    <tr>\n",
              "      <th>2</th>\n",
              "      <td>Albania</td>\n",
              "      <td>1987</td>\n",
              "      <td>female</td>\n",
              "      <td>15-24 years</td>\n",
              "      <td>14</td>\n",
              "      <td>289700</td>\n",
              "      <td>4.83</td>\n",
              "      <td>Albania1987</td>\n",
              "      <td>NaN</td>\n",
              "      <td>2,156,624,900</td>\n",
              "      <td>796</td>\n",
              "      <td>Generation X</td>\n",
              "    </tr>\n",
              "    <tr>\n",
              "      <th>3</th>\n",
              "      <td>Albania</td>\n",
              "      <td>1987</td>\n",
              "      <td>male</td>\n",
              "      <td>75+ years</td>\n",
              "      <td>1</td>\n",
              "      <td>21800</td>\n",
              "      <td>4.59</td>\n",
              "      <td>Albania1987</td>\n",
              "      <td>NaN</td>\n",
              "      <td>2,156,624,900</td>\n",
              "      <td>796</td>\n",
              "      <td>G.I. Generation</td>\n",
              "    </tr>\n",
              "    <tr>\n",
              "      <th>4</th>\n",
              "      <td>Albania</td>\n",
              "      <td>1987</td>\n",
              "      <td>male</td>\n",
              "      <td>25-34 years</td>\n",
              "      <td>9</td>\n",
              "      <td>274300</td>\n",
              "      <td>3.28</td>\n",
              "      <td>Albania1987</td>\n",
              "      <td>NaN</td>\n",
              "      <td>2,156,624,900</td>\n",
              "      <td>796</td>\n",
              "      <td>Boomers</td>\n",
              "    </tr>\n",
              "  </tbody>\n",
              "</table>\n",
              "</div>"
            ],
            "text/plain": [
              "   country  year  ... gdp_per_capita ($)       generation\n",
              "0  Albania  1987  ...                796     Generation X\n",
              "1  Albania  1987  ...                796           Silent\n",
              "2  Albania  1987  ...                796     Generation X\n",
              "3  Albania  1987  ...                796  G.I. Generation\n",
              "4  Albania  1987  ...                796          Boomers\n",
              "\n",
              "[5 rows x 12 columns]"
            ]
          },
          "metadata": {
            "tags": []
          },
          "execution_count": 54
        }
      ]
    },
    {
      "cell_type": "markdown",
      "metadata": {
        "id": "b6kdnGe3M8Oe"
      },
      "source": [
        "# **Brasil e Suicídios**"
      ]
    },
    {
      "cell_type": "markdown",
      "metadata": {
        "id": "ZUuXOu1FL_ps"
      },
      "source": [
        "Abaixo é possível visualizar alguns dados relacionados a número de suicídios no Brasil com relação ao ano, sexo, média de suicídios por n° de habitantes, IDH, Renda per Capita e etc."
      ]
    },
    {
      "cell_type": "markdown",
      "metadata": {
        "id": "vjQu0yvHNAeG"
      },
      "source": [
        ""
      ]
    },
    {
      "cell_type": "code",
      "metadata": {
        "colab": {
          "base_uri": "https://localhost:8080/",
          "height": 221
        },
        "id": "DRJ3NGV8EBLq",
        "outputId": "49385bb5-8e01-4c3c-aada-43681b91e69b"
      },
      "source": [
        "#Extrair dados apenas relacionados ao Brasil\n",
        "df_brasil = df[df.country ==  \"Brazil\"].copy()\n",
        "\n",
        "#Ver o formato do Dataframe em relação ao Brasil\n",
        "print(\"Formato do DataFrame: \", df_brasil.shape)\n",
        "\n",
        "#Exibir as 5 primeiras entradas do novo Dataframe\n",
        "df_brasil.head()"
      ],
      "execution_count": 55,
      "outputs": [
        {
          "output_type": "stream",
          "text": [
            "Formato do DataFrame:  (372, 12)\n"
          ],
          "name": "stdout"
        },
        {
          "output_type": "execute_result",
          "data": {
            "text/html": [
              "<div>\n",
              "<style scoped>\n",
              "    .dataframe tbody tr th:only-of-type {\n",
              "        vertical-align: middle;\n",
              "    }\n",
              "\n",
              "    .dataframe tbody tr th {\n",
              "        vertical-align: top;\n",
              "    }\n",
              "\n",
              "    .dataframe thead th {\n",
              "        text-align: right;\n",
              "    }\n",
              "</style>\n",
              "<table border=\"1\" class=\"dataframe\">\n",
              "  <thead>\n",
              "    <tr style=\"text-align: right;\">\n",
              "      <th></th>\n",
              "      <th>country</th>\n",
              "      <th>year</th>\n",
              "      <th>sex</th>\n",
              "      <th>age</th>\n",
              "      <th>suicides_no</th>\n",
              "      <th>population</th>\n",
              "      <th>suicides/100k pop</th>\n",
              "      <th>country-year</th>\n",
              "      <th>HDI for year</th>\n",
              "      <th>gdp_for_year </th>\n",
              "      <th>gdp_per_capita </th>\n",
              "      <th>generation</th>\n",
              "    </tr>\n",
              "  </thead>\n",
              "  <tbody>\n",
              "    <tr>\n",
              "      <th>4172</th>\n",
              "      <td>Brazil</td>\n",
              "      <td>1985</td>\n",
              "      <td>male</td>\n",
              "      <td>75+ years</td>\n",
              "      <td>129</td>\n",
              "      <td>840300</td>\n",
              "      <td>15.35</td>\n",
              "      <td>Brazil1985</td>\n",
              "      <td>0.576</td>\n",
              "      <td>222,942,790,435</td>\n",
              "      <td>1898</td>\n",
              "      <td>G.I. Generation</td>\n",
              "    </tr>\n",
              "    <tr>\n",
              "      <th>4173</th>\n",
              "      <td>Brazil</td>\n",
              "      <td>1985</td>\n",
              "      <td>male</td>\n",
              "      <td>55-74 years</td>\n",
              "      <td>535</td>\n",
              "      <td>5364900</td>\n",
              "      <td>9.97</td>\n",
              "      <td>Brazil1985</td>\n",
              "      <td>0.576</td>\n",
              "      <td>222,942,790,435</td>\n",
              "      <td>1898</td>\n",
              "      <td>G.I. Generation</td>\n",
              "    </tr>\n",
              "    <tr>\n",
              "      <th>4174</th>\n",
              "      <td>Brazil</td>\n",
              "      <td>1985</td>\n",
              "      <td>male</td>\n",
              "      <td>35-54 years</td>\n",
              "      <td>1011</td>\n",
              "      <td>11986300</td>\n",
              "      <td>8.43</td>\n",
              "      <td>Brazil1985</td>\n",
              "      <td>0.576</td>\n",
              "      <td>222,942,790,435</td>\n",
              "      <td>1898</td>\n",
              "      <td>Silent</td>\n",
              "    </tr>\n",
              "    <tr>\n",
              "      <th>4175</th>\n",
              "      <td>Brazil</td>\n",
              "      <td>1985</td>\n",
              "      <td>male</td>\n",
              "      <td>25-34 years</td>\n",
              "      <td>791</td>\n",
              "      <td>10762900</td>\n",
              "      <td>7.35</td>\n",
              "      <td>Brazil1985</td>\n",
              "      <td>0.576</td>\n",
              "      <td>222,942,790,435</td>\n",
              "      <td>1898</td>\n",
              "      <td>Boomers</td>\n",
              "    </tr>\n",
              "    <tr>\n",
              "      <th>4176</th>\n",
              "      <td>Brazil</td>\n",
              "      <td>1985</td>\n",
              "      <td>male</td>\n",
              "      <td>15-24 years</td>\n",
              "      <td>661</td>\n",
              "      <td>13834000</td>\n",
              "      <td>4.78</td>\n",
              "      <td>Brazil1985</td>\n",
              "      <td>0.576</td>\n",
              "      <td>222,942,790,435</td>\n",
              "      <td>1898</td>\n",
              "      <td>Generation X</td>\n",
              "    </tr>\n",
              "  </tbody>\n",
              "</table>\n",
              "</div>"
            ],
            "text/plain": [
              "     country  year  ... gdp_per_capita ($)       generation\n",
              "4172  Brazil  1985  ...               1898  G.I. Generation\n",
              "4173  Brazil  1985  ...               1898  G.I. Generation\n",
              "4174  Brazil  1985  ...               1898           Silent\n",
              "4175  Brazil  1985  ...               1898          Boomers\n",
              "4176  Brazil  1985  ...               1898     Generation X\n",
              "\n",
              "[5 rows x 12 columns]"
            ]
          },
          "metadata": {
            "tags": []
          },
          "execution_count": 55
        }
      ]
    },
    {
      "cell_type": "markdown",
      "metadata": {
        "id": "WMh_r2oGMixo"
      },
      "source": [
        "Em seguida é possível analisar a média de suicídios no Brasil em comparação com o restante do mundo. Com isso, também observa-se um pequeno aumento de suicídios no Brasil nos últimos anos em comparação com o restante do Mundo que diminiu."
      ]
    },
    {
      "cell_type": "code",
      "metadata": {
        "colab": {
          "base_uri": "https://localhost:8080/",
          "height": 266
        },
        "id": "kLQDXmPHFC5Z",
        "outputId": "79257bdb-10ef-4f92-8713-cd91147a48fc"
      },
      "source": [
        "#Pegando a media mundial e a do Brasil em suicídos \n",
        "years = df_brasil.year.unique() #anos -> eixo X\n",
        "suicides_brasil_mean = df_brasil.groupby('year')['suicides/100k pop'].mean()\n",
        "suicides_world_mean = df.groupby('year')['suicides/100k pop'].mean()\n",
        "\n",
        "#desconsiderando 2016 pois nem todos os países tem dados nesse ano\n",
        "suicides_world_mean.drop(2016, inplace=True)\n",
        "\n",
        "#plotar lineplor comparativo entre Brasil e Mundo\n",
        "ax = sns.lineplot(x=years, y=suicides_brasil_mean, label='Brasil')\n",
        "ax = sns.lineplot(x=years, y=suicides_world_mean, label='Mundo')\n",
        "plt.legend(title=\"Taxa de Suicídio\")\n",
        "plt.show()"
      ],
      "execution_count": 56,
      "outputs": [
        {
          "output_type": "display_data",
          "data": {
            "image/png": "[encoded data removed]",
            "text/plain": [
              "<Figure size 432x288 with 1 Axes>"
            ]
          },
          "metadata": {
            "tags": [],
            "needs_background": "light"
          }
        }
      ]
    },
    {
      "cell_type": "markdown",
      "metadata": {
        "id": "sM1zag6vIVqT"
      },
      "source": [
        "### **Faixa etária com maior índice de suícidio**\n"
      ]
    },
    {
      "cell_type": "markdown",
      "metadata": {
        "id": "4qyWNsirNKC3"
      },
      "source": [
        "De acordo com a faixa etária observada a seguir, além de perceber o aumento de vítimas, é possível observar também que a sua maioria possui idades de 35 até 54 anos."
      ]
    },
    {
      "cell_type": "code",
      "metadata": {
        "colab": {
          "base_uri": "https://localhost:8080/",
          "height": 235
        },
        "id": "o8hS33fdIbP5",
        "outputId": "c21c5f44-fd18-4292-f040-f73c879c8b3a"
      },
      "source": [
        "#criando uma tabela dinâmica\n",
        "table = pd.pivot_table(df_brasil, values='suicides_no', index=['year'], columns=['age'])\n",
        "\n",
        "#reordenando as tabelas\n",
        "column_order = ['5-14 years', '15-24 years', '25-34 years', '35-54 years', '55-74 years', '75+ years']\n",
        "table = table.reindex(column_order, axis=1)\n",
        "\n",
        "#ver as 5 primeiras entradas da pivot table\n",
        "table.head()"
      ],
      "execution_count": 57,
      "outputs": [
        {
          "output_type": "execute_result",
          "data": {
            "text/html": [
              "<div>\n",
              "<style scoped>\n",
              "    .dataframe tbody tr th:only-of-type {\n",
              "        vertical-align: middle;\n",
              "    }\n",
              "\n",
              "    .dataframe tbody tr th {\n",
              "        vertical-align: top;\n",
              "    }\n",
              "\n",
              "    .dataframe thead th {\n",
              "        text-align: right;\n",
              "    }\n",
              "</style>\n",
              "<table border=\"1\" class=\"dataframe\">\n",
              "  <thead>\n",
              "    <tr style=\"text-align: right;\">\n",
              "      <th>age</th>\n",
              "      <th>5-14 years</th>\n",
              "      <th>15-24 years</th>\n",
              "      <th>25-34 years</th>\n",
              "      <th>35-54 years</th>\n",
              "      <th>55-74 years</th>\n",
              "      <th>75+ years</th>\n",
              "    </tr>\n",
              "    <tr>\n",
              "      <th>year</th>\n",
              "      <th></th>\n",
              "      <th></th>\n",
              "      <th></th>\n",
              "      <th></th>\n",
              "      <th></th>\n",
              "      <th></th>\n",
              "    </tr>\n",
              "  </thead>\n",
              "  <tbody>\n",
              "    <tr>\n",
              "      <th>1985</th>\n",
              "      <td>38.0</td>\n",
              "      <td>470.5</td>\n",
              "      <td>530.0</td>\n",
              "      <td>653.5</td>\n",
              "      <td>341.5</td>\n",
              "      <td>80.5</td>\n",
              "    </tr>\n",
              "    <tr>\n",
              "      <th>1986</th>\n",
              "      <td>31.0</td>\n",
              "      <td>508.0</td>\n",
              "      <td>505.5</td>\n",
              "      <td>651.0</td>\n",
              "      <td>372.0</td>\n",
              "      <td>68.0</td>\n",
              "    </tr>\n",
              "    <tr>\n",
              "      <th>1987</th>\n",
              "      <td>33.5</td>\n",
              "      <td>502.0</td>\n",
              "      <td>565.5</td>\n",
              "      <td>724.5</td>\n",
              "      <td>422.0</td>\n",
              "      <td>88.5</td>\n",
              "    </tr>\n",
              "    <tr>\n",
              "      <th>1988</th>\n",
              "      <td>30.0</td>\n",
              "      <td>472.0</td>\n",
              "      <td>557.5</td>\n",
              "      <td>724.0</td>\n",
              "      <td>356.0</td>\n",
              "      <td>93.5</td>\n",
              "    </tr>\n",
              "    <tr>\n",
              "      <th>1989</th>\n",
              "      <td>31.5</td>\n",
              "      <td>491.5</td>\n",
              "      <td>569.0</td>\n",
              "      <td>692.5</td>\n",
              "      <td>354.5</td>\n",
              "      <td>92.5</td>\n",
              "    </tr>\n",
              "  </tbody>\n",
              "</table>\n",
              "</div>"
            ],
            "text/plain": [
              "age   5-14 years  15-24 years  25-34 years  35-54 years  55-74 years  75+ years\n",
              "year                                                                           \n",
              "1985        38.0        470.5        530.0        653.5        341.5       80.5\n",
              "1986        31.0        508.0        505.5        651.0        372.0       68.0\n",
              "1987        33.5        502.0        565.5        724.5        422.0       88.5\n",
              "1988        30.0        472.0        557.5        724.0        356.0       93.5\n",
              "1989        31.5        491.5        569.0        692.5        354.5       92.5"
            ]
          },
          "metadata": {
            "tags": []
          },
          "execution_count": 57
        }
      ]
    },
    {
      "cell_type": "code",
      "metadata": {
        "colab": {
          "base_uri": "https://localhost:8080/",
          "height": 512
        },
        "id": "s0V42hK3J42Z",
        "outputId": "7bdbd9e5-8ebf-4640-dc2a-7bfeb70cec36"
      },
      "source": [
        "#plotar a pivot table das faixas etárias\n",
        "table.plot.bar(stacked=True, figsize=(16,8))\n",
        "plt.legend(title=\"Idade\");"
      ],
      "execution_count": 58,
      "outputs": [
        {
          "output_type": "display_data",
          "data": {
            "image/png": "[encoded data removed]",
            "text/plain": [
              "<Figure size 1152x576 with 1 Axes>"
            ]
          },
          "metadata": {
            "tags": [],
            "needs_background": "light"
          }
        }
      ]
    },
    {
      "cell_type": "code",
      "metadata": {
        "colab": {
          "base_uri": "https://localhost:8080/"
        },
        "id": "_QmWrT_4KmxW",
        "outputId": "001ed6d8-62e2-4808-b18a-98860fecc611"
      },
      "source": [
        "#Estatística de suicídios por faixa etária\n",
        "table[['25-34 years']].loc[2015]\n",
        "table.loc[2015] / table.loc[2015].sum()"
      ],
      "execution_count": 59,
      "outputs": [
        {
          "output_type": "execute_result",
          "data": {
            "text/plain": [
              "age\n",
              "5-14 years     0.012094\n",
              "15-24 years    0.159993\n",
              "25-34 years    0.211681\n",
              "35-54 years    0.371585\n",
              "55-74 years    0.194571\n",
              "75+ years      0.050076\n",
              "Name: 2015, dtype: float64"
            ]
          },
          "metadata": {
            "tags": []
          },
          "execution_count": 59
        }
      ]
    },
    {
      "cell_type": "markdown",
      "metadata": {
        "id": "2YpXgp2HLItt"
      },
      "source": [
        "### **Comparação entre Homens e Mulheres**\n",
        "\n",
        "\n"
      ]
    },
    {
      "cell_type": "markdown",
      "metadata": {
        "id": "-NSxLa17O0w0"
      },
      "source": [
        "Além da faixa etária, com os dados é possível analisar que a maiora das vítimas de suicídio são **homens**:"
      ]
    },
    {
      "cell_type": "code",
      "metadata": {
        "colab": {
          "base_uri": "https://localhost:8080/",
          "height": 248
        },
        "id": "hffwvboNLNzU",
        "outputId": "a28334be-18ea-4b39-e6a5-ac1f257b9f52"
      },
      "source": [
        "#extraindo valores entre homens e mulheres\n",
        "homens_mulheres = df_brasil.groupby('sex').suicides_no.sum() / df_brasil.groupby('sex').suicides_no.sum().sum()\n",
        "\n",
        "#plotando o gráfico de pizza\n",
        "plt.pie(homens_mulheres, labels=['mulheres', 'homens'], autopct='%1.1f%%', shadow=True);"
      ],
      "execution_count": 60,
      "outputs": [
        {
          "output_type": "display_data",
          "data": {
            "image/png": "[encoded data removed]",
            "text/plain": [
              "<Figure size 432x288 with 1 Axes>"
            ]
          },
          "metadata": {
            "tags": []
          }
        }
      ]
    },
    {
      "cell_type": "markdown",
      "metadata": {
        "id": "W1k4GMgCMDzk"
      },
      "source": [
        "### **Correlação entre PIB, IDH e os números de suicídios**\n"
      ]
    },
    {
      "cell_type": "markdown",
      "metadata": {
        "id": "t9hSA7BHnJmH"
      },
      "source": [
        "Através de uma matriz de correlação e pltando um heatmap, observa-se que o aumento no PIB per capita não diminuiu o número de suicídios por 100 mil habitantes. \n",
        "\n",
        "Quanto ao IDH, por haver falta de valores na fonte, pode acabar dando uma interpretação incorreta ou com viés."
      ]
    },
    {
      "cell_type": "code",
      "metadata": {
        "colab": {
          "base_uri": "https://localhost:8080/",
          "height": 370
        },
        "id": "ke1tP_InMKH6",
        "outputId": "545cca28-99d6-4f7f-877d-cd4d10f43e8f"
      },
      "source": [
        "#plotando heatmap\n",
        "corr = df_brasil.corr()\n",
        "sns.heatmap(corr, cmap='RdBu', fmt='.2f', square=True, linecolor='white', annot=True)"
      ],
      "execution_count": 61,
      "outputs": [
        {
          "output_type": "execute_result",
          "data": {
            "text/plain": [
              "<matplotlib.axes._subplots.AxesSubplot at 0x7f681a5f4f90>"
            ]
          },
          "metadata": {
            "tags": []
          },
          "execution_count": 61
        },
        {
          "output_type": "display_data",
          "data": {
            "image/png": "[encoded data removed]",
            "text/plain": [
              "<Figure size 432x288 with 2 Axes>"
            ]
          },
          "metadata": {
            "tags": [],
            "needs_background": "light"
          }
        }
      ]
    },
    {
      "cell_type": "markdown",
      "metadata": {
        "id": "qm1OUWsGKIwf"
      },
      "source": [
        "### **Continuação...**"
      ]
    },
    {
      "cell_type": "markdown",
      "metadata": {
        "id": "wYDGRwOgMuOu"
      },
      "source": [
        "O Japão é conhecido mundialmente como o país com mais casos de sucídios no mundo.\n",
        "\n",
        "Dessa forma, seus dados vão ser usados como material e por fim comparado com o Brasil."
      ]
    },
    {
      "cell_type": "code",
      "metadata": {
        "colab": {
          "base_uri": "https://localhost:8080/",
          "height": 323
        },
        "id": "Ou6Rt62PKPL7",
        "outputId": "1fe39c82-6b46-4410-afbd-2f146c6f4be1"
      },
      "source": [
        "#Extrair dados apenas relacionados ao Japão\n",
        "df_japao = df[df.country ==  \"Japan\"].copy()\n",
        "\n",
        "#Ver o formato do Dataframe em relação ao Japão\n",
        "print(\"Formato do DataFrame: \", df_japao.shape)\n",
        "\n",
        "#Exibir as 5 primeiras entradas do novo Dataframe\n",
        "df_japao.head()"
      ],
      "execution_count": 62,
      "outputs": [
        {
          "output_type": "stream",
          "text": [
            "Formato do DataFrame:  (372, 12)\n"
          ],
          "name": "stdout"
        },
        {
          "output_type": "execute_result",
          "data": {
            "text/html": [
              "<div>\n",
              "<style scoped>\n",
              "    .dataframe tbody tr th:only-of-type {\n",
              "        vertical-align: middle;\n",
              "    }\n",
              "\n",
              "    .dataframe tbody tr th {\n",
              "        vertical-align: top;\n",
              "    }\n",
              "\n",
              "    .dataframe thead th {\n",
              "        text-align: right;\n",
              "    }\n",
              "</style>\n",
              "<table border=\"1\" class=\"dataframe\">\n",
              "  <thead>\n",
              "    <tr style=\"text-align: right;\">\n",
              "      <th></th>\n",
              "      <th>country</th>\n",
              "      <th>year</th>\n",
              "      <th>sex</th>\n",
              "      <th>age</th>\n",
              "      <th>suicides_no</th>\n",
              "      <th>population</th>\n",
              "      <th>suicides/100k pop</th>\n",
              "      <th>country-year</th>\n",
              "      <th>HDI for year</th>\n",
              "      <th>gdp_for_year </th>\n",
              "      <th>gdp_per_capita </th>\n",
              "      <th>generation</th>\n",
              "    </tr>\n",
              "  </thead>\n",
              "  <tbody>\n",
              "    <tr>\n",
              "      <th>13364</th>\n",
              "      <td>Japan</td>\n",
              "      <td>1985</td>\n",
              "      <td>male</td>\n",
              "      <td>75+ years</td>\n",
              "      <td>1340</td>\n",
              "      <td>1791000</td>\n",
              "      <td>74.82</td>\n",
              "      <td>Japan1985</td>\n",
              "      <td>0.791</td>\n",
              "      <td>1,398,892,744,821</td>\n",
              "      <td>12401</td>\n",
              "      <td>G.I. Generation</td>\n",
              "    </tr>\n",
              "    <tr>\n",
              "      <th>13365</th>\n",
              "      <td>Japan</td>\n",
              "      <td>1985</td>\n",
              "      <td>female</td>\n",
              "      <td>75+ years</td>\n",
              "      <td>1553</td>\n",
              "      <td>2862400</td>\n",
              "      <td>54.26</td>\n",
              "      <td>Japan1985</td>\n",
              "      <td>0.791</td>\n",
              "      <td>1,398,892,744,821</td>\n",
              "      <td>12401</td>\n",
              "      <td>G.I. Generation</td>\n",
              "    </tr>\n",
              "    <tr>\n",
              "      <th>13366</th>\n",
              "      <td>Japan</td>\n",
              "      <td>1985</td>\n",
              "      <td>male</td>\n",
              "      <td>55-74 years</td>\n",
              "      <td>3763</td>\n",
              "      <td>8996900</td>\n",
              "      <td>41.83</td>\n",
              "      <td>Japan1985</td>\n",
              "      <td>0.791</td>\n",
              "      <td>1,398,892,744,821</td>\n",
              "      <td>12401</td>\n",
              "      <td>G.I. Generation</td>\n",
              "    </tr>\n",
              "    <tr>\n",
              "      <th>13367</th>\n",
              "      <td>Japan</td>\n",
              "      <td>1985</td>\n",
              "      <td>male</td>\n",
              "      <td>35-54 years</td>\n",
              "      <td>6962</td>\n",
              "      <td>17833300</td>\n",
              "      <td>39.04</td>\n",
              "      <td>Japan1985</td>\n",
              "      <td>0.791</td>\n",
              "      <td>1,398,892,744,821</td>\n",
              "      <td>12401</td>\n",
              "      <td>Silent</td>\n",
              "    </tr>\n",
              "    <tr>\n",
              "      <th>13368</th>\n",
              "      <td>Japan</td>\n",
              "      <td>1985</td>\n",
              "      <td>male</td>\n",
              "      <td>25-34 years</td>\n",
              "      <td>1982</td>\n",
              "      <td>8465800</td>\n",
              "      <td>23.41</td>\n",
              "      <td>Japan1985</td>\n",
              "      <td>0.791</td>\n",
              "      <td>1,398,892,744,821</td>\n",
              "      <td>12401</td>\n",
              "      <td>Boomers</td>\n",
              "    </tr>\n",
              "  </tbody>\n",
              "</table>\n",
              "</div>"
            ],
            "text/plain": [
              "      country  year  ... gdp_per_capita ($)       generation\n",
              "13364   Japan  1985  ...              12401  G.I. Generation\n",
              "13365   Japan  1985  ...              12401  G.I. Generation\n",
              "13366   Japan  1985  ...              12401  G.I. Generation\n",
              "13367   Japan  1985  ...              12401           Silent\n",
              "13368   Japan  1985  ...              12401          Boomers\n",
              "\n",
              "[5 rows x 12 columns]"
            ]
          },
          "metadata": {
            "tags": []
          },
          "execution_count": 62
        }
      ]
    },
    {
      "cell_type": "markdown",
      "metadata": {
        "id": "-RrMNVo0Pa7U"
      },
      "source": [
        "Comparando o Japão com o Brasil, através do gráfico, mesmo tendo menores taxas nos últimos anos, o país continua com grande diferença de suicídios ao comparados com o Brasil."
      ]
    },
    {
      "cell_type": "code",
      "metadata": {
        "colab": {
          "base_uri": "https://localhost:8080/",
          "height": 265
        },
        "id": "xsNhlPrbMH_p",
        "outputId": "aade591e-b86c-4b2f-a35e-c83fa4e7a150"
      },
      "source": [
        "#Pegando a media mundial e a do Brasil em suicídos \n",
        "years = df_brasil.year.unique() #anos -> eixo X\n",
        "suicides_brasil_mean = df_brasil.groupby('year')['suicides/100k pop'].mean()\n",
        "suicides_japao_mean = df_japao.groupby('year')['suicides/100k pop'].mean()\n",
        "suicides_world_mean = df.groupby('year')['suicides/100k pop'].mean()\n",
        "\n",
        "#desconsiderando 2016 pois nem todos os países tem dados nesse ano\n",
        "suicides_world_mean.drop(2016, inplace=True)\n",
        "\n",
        "#plotar lineplor comparativo entre Brasil e Mundo\n",
        "ax = sns.lineplot(x=years, y=suicides_brasil_mean, label='Brasil')\n",
        "ax = sns.lineplot(x=years, y=suicides_japao_mean, label='Japão')\n",
        "plt.legend(title=\"Taxa de Suicídio\")\n",
        "plt.show()"
      ],
      "execution_count": 63,
      "outputs": [
        {
          "output_type": "display_data",
          "data": {
            "image/png": "[encoded data removed]",
            "text/plain": [
              "<Figure size 432x288 with 1 Axes>"
            ]
          },
          "metadata": {
            "tags": [],
            "needs_background": "light"
          }
        }
      ]
    },
    {
      "cell_type": "markdown",
      "metadata": {
        "id": "IFQaBIy1Nc9L"
      },
      "source": [
        "Como é possível observar, ainda nos últimos anos, as taxas de suicídios no Japão possuem uma grande diferença com as do Brasil."
      ]
    },
    {
      "cell_type": "markdown",
      "metadata": {
        "id": "OPa55P0EOSX7"
      },
      "source": [
        "### **Taxas de sucídio Brasil x Japão em relação a idades**"
      ]
    },
    {
      "cell_type": "code",
      "metadata": {
        "colab": {
          "base_uri": "https://localhost:8080/",
          "height": 235
        },
        "id": "GLXLbUoKOfT_",
        "outputId": "b9ff4506-9255-4426-a32e-f244f99ed4d6"
      },
      "source": [
        "#criando uma tabela dinâmica\n",
        "table_japao = pd.pivot_table(df_japao, values='suicides_no', index=['year'], columns=['age'])\n",
        "\n",
        "#reordenando as tabelas\n",
        "column_order = ['5-14 years', '15-24 years', '25-34 years', '35-54 years', '55-74 years', '75+ years']\n",
        "table_japao = table_japao.reindex(column_order, axis=1)\n",
        "\n",
        "#ver as 5 primeiras entradas da pivot table\n",
        "table_japao.head()"
      ],
      "execution_count": 93,
      "outputs": [
        {
          "output_type": "execute_result",
          "data": {
            "text/html": [
              "<div>\n",
              "<style scoped>\n",
              "    .dataframe tbody tr th:only-of-type {\n",
              "        vertical-align: middle;\n",
              "    }\n",
              "\n",
              "    .dataframe tbody tr th {\n",
              "        vertical-align: top;\n",
              "    }\n",
              "\n",
              "    .dataframe thead th {\n",
              "        text-align: right;\n",
              "    }\n",
              "</style>\n",
              "<table border=\"1\" class=\"dataframe\">\n",
              "  <thead>\n",
              "    <tr style=\"text-align: right;\">\n",
              "      <th>age</th>\n",
              "      <th>5-14 years</th>\n",
              "      <th>15-24 years</th>\n",
              "      <th>25-34 years</th>\n",
              "      <th>35-54 years</th>\n",
              "      <th>55-74 years</th>\n",
              "      <th>75+ years</th>\n",
              "    </tr>\n",
              "    <tr>\n",
              "      <th>year</th>\n",
              "      <th></th>\n",
              "      <th></th>\n",
              "      <th></th>\n",
              "      <th></th>\n",
              "      <th></th>\n",
              "      <th></th>\n",
              "    </tr>\n",
              "  </thead>\n",
              "  <tbody>\n",
              "    <tr>\n",
              "      <th>1985</th>\n",
              "      <td>42.5</td>\n",
              "      <td>815.0</td>\n",
              "      <td>1399.5</td>\n",
              "      <td>4772.0</td>\n",
              "      <td>3153.0</td>\n",
              "      <td>1446.5</td>\n",
              "    </tr>\n",
              "    <tr>\n",
              "      <th>1986</th>\n",
              "      <td>63.0</td>\n",
              "      <td>971.5</td>\n",
              "      <td>1496.5</td>\n",
              "      <td>5042.5</td>\n",
              "      <td>3524.0</td>\n",
              "      <td>1644.5</td>\n",
              "    </tr>\n",
              "    <tr>\n",
              "      <th>1987</th>\n",
              "      <td>34.5</td>\n",
              "      <td>817.0</td>\n",
              "      <td>1343.0</td>\n",
              "      <td>4592.0</td>\n",
              "      <td>3463.0</td>\n",
              "      <td>1582.0</td>\n",
              "    </tr>\n",
              "    <tr>\n",
              "      <th>1988</th>\n",
              "      <td>39.5</td>\n",
              "      <td>778.0</td>\n",
              "      <td>1228.5</td>\n",
              "      <td>4262.5</td>\n",
              "      <td>3352.0</td>\n",
              "      <td>1677.5</td>\n",
              "    </tr>\n",
              "    <tr>\n",
              "      <th>1989</th>\n",
              "      <td>31.5</td>\n",
              "      <td>703.5</td>\n",
              "      <td>1153.5</td>\n",
              "      <td>3733.5</td>\n",
              "      <td>3231.0</td>\n",
              "      <td>1653.5</td>\n",
              "    </tr>\n",
              "  </tbody>\n",
              "</table>\n",
              "</div>"
            ],
            "text/plain": [
              "age   5-14 years  15-24 years  25-34 years  35-54 years  55-74 years  75+ years\n",
              "year                                                                           \n",
              "1985        42.5        815.0       1399.5       4772.0       3153.0     1446.5\n",
              "1986        63.0        971.5       1496.5       5042.5       3524.0     1644.5\n",
              "1987        34.5        817.0       1343.0       4592.0       3463.0     1582.0\n",
              "1988        39.5        778.0       1228.5       4262.5       3352.0     1677.5\n",
              "1989        31.5        703.5       1153.5       3733.5       3231.0     1653.5"
            ]
          },
          "metadata": {
            "tags": []
          },
          "execution_count": 93
        }
      ]
    },
    {
      "cell_type": "markdown",
      "metadata": {
        "id": "11Z1vPHkQQOC"
      },
      "source": [
        "Já uma diferença entre o Japão e o Brasil é a idade. \n",
        "No Japão, os casos de suicídio acontece em sua maioria com pessoas entre 55-74 anos."
      ]
    },
    {
      "cell_type": "code",
      "metadata": {
        "colab": {
          "base_uri": "https://localhost:8080/",
          "height": 512
        },
        "id": "fZojz8ilPtvj",
        "outputId": "020e2a23-898f-42ed-a715-b3e85ff85e71"
      },
      "source": [
        "#plotar a pivot table das faixas etárias\n",
        "table_japao.plot.bar(stacked=True, figsize=(16,8))\n",
        "plt.legend(title=\"Idade\");"
      ],
      "execution_count": 94,
      "outputs": [
        {
          "output_type": "display_data",
          "data": {
            "image/png": "[encoded data removed]",
            "text/plain": [
              "<Figure size 1152x576 with 1 Axes>"
            ]
          },
          "metadata": {
            "tags": [],
            "needs_background": "light"
          }
        }
      ]
    },
    {
      "cell_type": "markdown",
      "metadata": {
        "id": "4JssaFOGGYGS"
      },
      "source": [
        "\n",
        "\n",
        "---\n",
        "\n"
      ]
    },
    {
      "cell_type": "code",
      "metadata": {
        "colab": {
          "base_uri": "https://localhost:8080/"
        },
        "id": "vP3Il9zFQHhS",
        "outputId": "05ebc4f8-8c3e-4bc6-968c-11363f9f5891"
      },
      "source": [
        "#Estatística de suicídios por faixa etária\n",
        "table_japao[['25-34 years']].loc[2015]\n",
        "table_japao.loc[2015] / table.loc[2015].sum()"
      ],
      "execution_count": 66,
      "outputs": [
        {
          "output_type": "execute_result",
          "data": {
            "text/plain": [
              "age\n",
              "5-14 years     0.003897\n",
              "15-24 years    0.064914\n",
              "25-34 years    0.114022\n",
              "35-54 years    0.326130\n",
              "55-74 years    0.326217\n",
              "75+ years      0.164819\n",
              "Name: 2015, dtype: float64"
            ]
          },
          "metadata": {
            "tags": []
          },
          "execution_count": 66
        }
      ]
    },
    {
      "cell_type": "markdown",
      "metadata": {
        "id": "hCwsD_WmQgRq"
      },
      "source": [
        "### **Comparação entre Homens e Mulheres no Japão**\n",
        "\n"
      ]
    },
    {
      "cell_type": "markdown",
      "metadata": {
        "id": "F9bBOHuCQ_YA"
      },
      "source": [
        "Outro ponto interessante a se observar é a relação com o sexo. No Japão mais mulheres cometem suicídio em comparação com o Brasil."
      ]
    },
    {
      "cell_type": "code",
      "metadata": {
        "colab": {
          "base_uri": "https://localhost:8080/",
          "height": 248
        },
        "id": "hq-qxgVqQ3Ur",
        "outputId": "dd4f901c-a788-462e-80c4-30cf210b238d"
      },
      "source": [
        "#extraindo valores entre homens e mulheres\n",
        "homens_mulheres_japao = df_japao.groupby('sex').suicides_no.sum() / df_japao.groupby('sex').suicides_no.sum().sum()\n",
        "\n",
        "#plotando o gráfico de pizza\n",
        "plt.pie(homens_mulheres_japao, labels=['mulheres', 'homens'], autopct='%1.1f%%', shadow=True);"
      ],
      "execution_count": 67,
      "outputs": [
        {
          "output_type": "display_data",
          "data": {
            "image/png": "[encoded data removed]",
            "text/plain": [
              "<Figure size 432x288 with 1 Axes>"
            ]
          },
          "metadata": {
            "tags": []
          }
        }
      ]
    },
    {
      "cell_type": "markdown",
      "metadata": {
        "id": "_Y0OCwVxRPEJ"
      },
      "source": [
        "# **Contradição**"
      ]
    },
    {
      "cell_type": "markdown",
      "metadata": {
        "id": "GOoHGONDRZQJ"
      },
      "source": [
        "Apesar do Japão ser o país mais conhecido pelos grandes números de casos de suicídio, ao analisar o Dataset é possível ver que o país que possui mais suicídios é a **Rússia**.\n",
        "\n",
        "Em terceiro lugar estaria então o Japão."
      ]
    },
    {
      "cell_type": "code",
      "metadata": {
        "colab": {
          "base_uri": "https://localhost:8080/"
        },
        "id": "tE1CzqnBGZDi",
        "outputId": "0b3c49c3-256a-43cd-9011-66ba3002e2db"
      },
      "source": [
        "#criando uma tabela dinâmica\n",
        "df_world = df.groupby('country')['suicides_no'].mean()\n",
        "\n",
        "print(df_world.sort_values())\n",
        "\n",
        "#Exibir as 5 primeiras entradas do novo Dataframe\n",
        "#df_world.head()"
      ],
      "execution_count": 68,
      "outputs": [
        {
          "output_type": "stream",
          "text": [
            "country\n",
            "Saint Kitts and Nevis       0.000000\n",
            "Dominica                    0.000000\n",
            "Antigua and Barbuda         0.033951\n",
            "San Marino                  0.111111\n",
            "Grenada                     0.122581\n",
            "                            ...     \n",
            "Germany                   933.532051\n",
            "Ukraine                   952.232143\n",
            "Japan                    2169.091398\n",
            "United States            2779.604839\n",
            "Russian Federation       3733.771605\n",
            "Name: suicides_no, Length: 101, dtype: float64\n"
          ],
          "name": "stdout"
        }
      ]
    },
    {
      "cell_type": "markdown",
      "metadata": {
        "id": "H_vp0rgVSE4w"
      },
      "source": [
        "Logo, analisando a Rússia em seguida:"
      ]
    },
    {
      "cell_type": "code",
      "metadata": {
        "colab": {
          "base_uri": "https://localhost:8080/",
          "height": 323
        },
        "id": "kOfsfDz5SCiy",
        "outputId": "67b1e0e9-3f23-4a92-dd6a-494463908ed3"
      },
      "source": [
        "#Extrair dados apenas relacionados ao Rússia\n",
        "df_russia =df[df.country ==  \"Russian Federation\"].copy()\n",
        "\n",
        "#Ver o formato do Dataframe em relação ao Rússia\n",
        "print(\"Formato do DataFrame: \", df_russia.shape)\n",
        "\n",
        "#Exibir as 5 primeiras entradas do novo Dataframe\n",
        "df_russia.head()\n",
        "\n"
      ],
      "execution_count": 104,
      "outputs": [
        {
          "output_type": "stream",
          "text": [
            "Formato do DataFrame:  (324, 12)\n"
          ],
          "name": "stdout"
        },
        {
          "output_type": "execute_result",
          "data": {
            "text/html": [
              "<div>\n",
              "<style scoped>\n",
              "    .dataframe tbody tr th:only-of-type {\n",
              "        vertical-align: middle;\n",
              "    }\n",
              "\n",
              "    .dataframe tbody tr th {\n",
              "        vertical-align: top;\n",
              "    }\n",
              "\n",
              "    .dataframe thead th {\n",
              "        text-align: right;\n",
              "    }\n",
              "</style>\n",
              "<table border=\"1\" class=\"dataframe\">\n",
              "  <thead>\n",
              "    <tr style=\"text-align: right;\">\n",
              "      <th></th>\n",
              "      <th>country</th>\n",
              "      <th>year</th>\n",
              "      <th>sex</th>\n",
              "      <th>age</th>\n",
              "      <th>suicides_no</th>\n",
              "      <th>population</th>\n",
              "      <th>suicides/100k pop</th>\n",
              "      <th>country-year</th>\n",
              "      <th>HDI for year</th>\n",
              "      <th>gdp_for_year </th>\n",
              "      <th>gdp_per_capita </th>\n",
              "      <th>generation</th>\n",
              "    </tr>\n",
              "  </thead>\n",
              "  <tbody>\n",
              "    <tr>\n",
              "      <th>20936</th>\n",
              "      <td>Russian Federation</td>\n",
              "      <td>1989</td>\n",
              "      <td>male</td>\n",
              "      <td>75+ years</td>\n",
              "      <td>1393</td>\n",
              "      <td>1349100</td>\n",
              "      <td>103.25</td>\n",
              "      <td>Russian Federation1989</td>\n",
              "      <td>NaN</td>\n",
              "      <td>506,500,173,960</td>\n",
              "      <td>3740</td>\n",
              "      <td>G.I. Generation</td>\n",
              "    </tr>\n",
              "    <tr>\n",
              "      <th>20937</th>\n",
              "      <td>Russian Federation</td>\n",
              "      <td>1989</td>\n",
              "      <td>male</td>\n",
              "      <td>35-54 years</td>\n",
              "      <td>12030</td>\n",
              "      <td>18058500</td>\n",
              "      <td>66.62</td>\n",
              "      <td>Russian Federation1989</td>\n",
              "      <td>NaN</td>\n",
              "      <td>506,500,173,960</td>\n",
              "      <td>3740</td>\n",
              "      <td>Silent</td>\n",
              "    </tr>\n",
              "    <tr>\n",
              "      <th>20938</th>\n",
              "      <td>Russian Federation</td>\n",
              "      <td>1989</td>\n",
              "      <td>male</td>\n",
              "      <td>55-74 years</td>\n",
              "      <td>6250</td>\n",
              "      <td>9383700</td>\n",
              "      <td>66.60</td>\n",
              "      <td>Russian Federation1989</td>\n",
              "      <td>NaN</td>\n",
              "      <td>506,500,173,960</td>\n",
              "      <td>3740</td>\n",
              "      <td>G.I. Generation</td>\n",
              "    </tr>\n",
              "    <tr>\n",
              "      <th>20939</th>\n",
              "      <td>Russian Federation</td>\n",
              "      <td>1989</td>\n",
              "      <td>male</td>\n",
              "      <td>25-34 years</td>\n",
              "      <td>6856</td>\n",
              "      <td>12748800</td>\n",
              "      <td>53.78</td>\n",
              "      <td>Russian Federation1989</td>\n",
              "      <td>NaN</td>\n",
              "      <td>506,500,173,960</td>\n",
              "      <td>3740</td>\n",
              "      <td>Boomers</td>\n",
              "    </tr>\n",
              "    <tr>\n",
              "      <th>20940</th>\n",
              "      <td>Russian Federation</td>\n",
              "      <td>1989</td>\n",
              "      <td>female</td>\n",
              "      <td>75+ years</td>\n",
              "      <td>1677</td>\n",
              "      <td>4738100</td>\n",
              "      <td>35.39</td>\n",
              "      <td>Russian Federation1989</td>\n",
              "      <td>NaN</td>\n",
              "      <td>506,500,173,960</td>\n",
              "      <td>3740</td>\n",
              "      <td>G.I. Generation</td>\n",
              "    </tr>\n",
              "  </tbody>\n",
              "</table>\n",
              "</div>"
            ],
            "text/plain": [
              "                  country  year  ... gdp_per_capita ($)       generation\n",
              "20936  Russian Federation  1989  ...               3740  G.I. Generation\n",
              "20937  Russian Federation  1989  ...               3740           Silent\n",
              "20938  Russian Federation  1989  ...               3740  G.I. Generation\n",
              "20939  Russian Federation  1989  ...               3740          Boomers\n",
              "20940  Russian Federation  1989  ...               3740  G.I. Generation\n",
              "\n",
              "[5 rows x 12 columns]"
            ]
          },
          "metadata": {
            "tags": []
          },
          "execution_count": 104
        }
      ]
    },
    {
      "cell_type": "markdown",
      "metadata": {
        "id": "q1j0Mg8Hiw1G"
      },
      "source": [
        "A tabela acima apresenta os 5 primeiros anos que se possui registro dos casos de suicídio na Rússia. Como é possível analisar, ao contrário de alguns países, somente se possui os dados a partir dos anos de **1989**.\n",
        "\n",
        "O curioso é que em 1989, a então Rússia ainda era URSS e naquele ano aconteceu a queda do comunismo a nível mundial: Fim da União Soviética como superpotência mundial e a sua dissolução, que levou ao fim da Guerra Fria."
      ]
    },
    {
      "cell_type": "markdown",
      "metadata": {
        "id": "mEFMBOmOSdgp"
      },
      "source": [
        "### **Comparando com o Mundo e a Rússia:**"
      ]
    },
    {
      "cell_type": "code",
      "metadata": {
        "colab": {
          "base_uri": "https://localhost:8080/",
          "height": 235
        },
        "id": "OoV5YsFPSnTZ",
        "outputId": "1b90e87d-a8f4-4169-fb3f-2d9d70d18d70"
      },
      "source": [
        "#criando uma tabela dinâmica\n",
        "table_russia = pd.pivot_table(df_russia, values='suicides_no', index=['year'], columns=['age'])\n",
        "\n",
        "#reordenando as tabelas\n",
        "column_order = ['5-14 years', '15-24 years', '25-34 years', '35-54 years', '55-74 years', '75+ years']\n",
        "table_russia = table_russia.reindex(column_order, axis=1)\n",
        "\n",
        "#ver as 5 primeiras entradas da pivot table\n",
        "table_russia.head()"
      ],
      "execution_count": 105,
      "outputs": [
        {
          "output_type": "execute_result",
          "data": {
            "text/html": [
              "<div>\n",
              "<style scoped>\n",
              "    .dataframe tbody tr th:only-of-type {\n",
              "        vertical-align: middle;\n",
              "    }\n",
              "\n",
              "    .dataframe tbody tr th {\n",
              "        vertical-align: top;\n",
              "    }\n",
              "\n",
              "    .dataframe thead th {\n",
              "        text-align: right;\n",
              "    }\n",
              "</style>\n",
              "<table border=\"1\" class=\"dataframe\">\n",
              "  <thead>\n",
              "    <tr style=\"text-align: right;\">\n",
              "      <th>age</th>\n",
              "      <th>5-14 years</th>\n",
              "      <th>15-24 years</th>\n",
              "      <th>25-34 years</th>\n",
              "      <th>35-54 years</th>\n",
              "      <th>55-74 years</th>\n",
              "      <th>75+ years</th>\n",
              "    </tr>\n",
              "    <tr>\n",
              "      <th>year</th>\n",
              "      <th></th>\n",
              "      <th></th>\n",
              "      <th></th>\n",
              "      <th></th>\n",
              "      <th></th>\n",
              "      <th></th>\n",
              "    </tr>\n",
              "  </thead>\n",
              "  <tbody>\n",
              "    <tr>\n",
              "      <th>1989</th>\n",
              "      <td>155.5</td>\n",
              "      <td>1604.5</td>\n",
              "      <td>3841.5</td>\n",
              "      <td>7178.0</td>\n",
              "      <td>4646.0</td>\n",
              "      <td>1535.0</td>\n",
              "    </tr>\n",
              "    <tr>\n",
              "      <th>1990</th>\n",
              "      <td>156.0</td>\n",
              "      <td>1757.5</td>\n",
              "      <td>3889.0</td>\n",
              "      <td>7492.0</td>\n",
              "      <td>4732.5</td>\n",
              "      <td>1487.0</td>\n",
              "    </tr>\n",
              "    <tr>\n",
              "      <th>1991</th>\n",
              "      <td>181.5</td>\n",
              "      <td>1813.0</td>\n",
              "      <td>3894.5</td>\n",
              "      <td>7587.5</td>\n",
              "      <td>4746.0</td>\n",
              "      <td>1418.0</td>\n",
              "    </tr>\n",
              "    <tr>\n",
              "      <th>1992</th>\n",
              "      <td>197.0</td>\n",
              "      <td>2075.5</td>\n",
              "      <td>4474.0</td>\n",
              "      <td>9296.0</td>\n",
              "      <td>5573.5</td>\n",
              "      <td>1345.5</td>\n",
              "    </tr>\n",
              "    <tr>\n",
              "      <th>1993</th>\n",
              "      <td>215.0</td>\n",
              "      <td>2566.0</td>\n",
              "      <td>5241.0</td>\n",
              "      <td>11709.5</td>\n",
              "      <td>6775.5</td>\n",
              "      <td>1416.0</td>\n",
              "    </tr>\n",
              "  </tbody>\n",
              "</table>\n",
              "</div>"
            ],
            "text/plain": [
              "age   5-14 years  15-24 years  25-34 years  35-54 years  55-74 years  75+ years\n",
              "year                                                                           \n",
              "1989       155.5       1604.5       3841.5       7178.0       4646.0     1535.0\n",
              "1990       156.0       1757.5       3889.0       7492.0       4732.5     1487.0\n",
              "1991       181.5       1813.0       3894.5       7587.5       4746.0     1418.0\n",
              "1992       197.0       2075.5       4474.0       9296.0       5573.5     1345.5\n",
              "1993       215.0       2566.0       5241.0      11709.5       6775.5     1416.0"
            ]
          },
          "metadata": {
            "tags": []
          },
          "execution_count": 105
        }
      ]
    },
    {
      "cell_type": "code",
      "metadata": {
        "colab": {
          "base_uri": "https://localhost:8080/",
          "height": 265
        },
        "id": "J_AiJIrKcVXW",
        "outputId": "29848a7a-7e64-4139-e9da-9f8c383d2108"
      },
      "source": [
        "#Pegando a media mundial e a do Russia em suicídos \n",
        "years = df_russia.year.unique() #anos -> eixo X\n",
        "suicides_russia_mean = df_russia.groupby('year')['suicides/100k pop'].mean()\n",
        "suicides_world_mean = df.groupby('year')['suicides/100k pop'].mean()\n",
        "\n",
        "#desconsiderando 2016 pois nem todos os países tem dados nesse ano\n",
        "suicides_world_mean.drop(2016, inplace=True)\n",
        "suicides_world_mean.drop(1985, inplace=True)\n",
        "suicides_world_mean.drop(1986, inplace=True)\n",
        "suicides_world_mean.drop(1987, inplace=True)\n",
        "suicides_world_mean.drop(1988, inplace=True)\n",
        "\n",
        "\n",
        "#plotar lineplot comparativo entre Brasil e Mundo\n",
        "ax = sns.lineplot(x=years, y=suicides_russia_mean, label='Russia')\n",
        "ax = sns.lineplot(x=years, y=suicides_world_mean, label='Mundo')\n",
        "plt.legend(title=\"Taxa de Suicídio\")\n",
        "plt.show()"
      ],
      "execution_count": 114,
      "outputs": [
        {
          "output_type": "display_data",
          "data": {
            "image/png": "[encoded data removed]",
            "text/plain": [
              "<Figure size 432x288 with 1 Axes>"
            ]
          },
          "metadata": {
            "tags": [],
            "needs_background": "light"
          }
        }
      ]
    },
    {
      "cell_type": "markdown",
      "metadata": {
        "id": "eQ1rvOH0lB29"
      },
      "source": [
        "Ao analisar o gráfico em relação aos anos que possuímos os dados, é em 1994 que há o maior pico de casos de suicídios na Rússia.\n",
        "\n",
        "Por fim, como é possível observar, a Rússia possuía altos casos de suicídio em comparação com o restante dos países."
      ]
    },
    {
      "cell_type": "code",
      "metadata": {
        "colab": {
          "base_uri": "https://localhost:8080/",
          "height": 235
        },
        "id": "cX0j-ZCxg_nS",
        "outputId": "f900ff9a-8282-412a-cc93-546ab4af2612"
      },
      "source": [
        "#criando uma tabela dinâmica\n",
        "table_russia = pd.pivot_table(df_russia, values='suicides_no', index=['year'], columns=['age'])\n",
        "\n",
        "#reordenando as tabelas\n",
        "column_order = ['5-14 years', '15-24 years', '25-34 years', '35-54 years', '55-74 years', '75+ years']\n",
        "table_russia = table_russia.reindex(column_order, axis=1)\n",
        "\n",
        "#ver as 5 primeiras entradas da pivot table\n",
        "table_russia.head()"
      ],
      "execution_count": 112,
      "outputs": [
        {
          "output_type": "execute_result",
          "data": {
            "text/html": [
              "<div>\n",
              "<style scoped>\n",
              "    .dataframe tbody tr th:only-of-type {\n",
              "        vertical-align: middle;\n",
              "    }\n",
              "\n",
              "    .dataframe tbody tr th {\n",
              "        vertical-align: top;\n",
              "    }\n",
              "\n",
              "    .dataframe thead th {\n",
              "        text-align: right;\n",
              "    }\n",
              "</style>\n",
              "<table border=\"1\" class=\"dataframe\">\n",
              "  <thead>\n",
              "    <tr style=\"text-align: right;\">\n",
              "      <th>age</th>\n",
              "      <th>5-14 years</th>\n",
              "      <th>15-24 years</th>\n",
              "      <th>25-34 years</th>\n",
              "      <th>35-54 years</th>\n",
              "      <th>55-74 years</th>\n",
              "      <th>75+ years</th>\n",
              "    </tr>\n",
              "    <tr>\n",
              "      <th>year</th>\n",
              "      <th></th>\n",
              "      <th></th>\n",
              "      <th></th>\n",
              "      <th></th>\n",
              "      <th></th>\n",
              "      <th></th>\n",
              "    </tr>\n",
              "  </thead>\n",
              "  <tbody>\n",
              "    <tr>\n",
              "      <th>1989</th>\n",
              "      <td>155.5</td>\n",
              "      <td>1604.5</td>\n",
              "      <td>3841.5</td>\n",
              "      <td>7178.0</td>\n",
              "      <td>4646.0</td>\n",
              "      <td>1535.0</td>\n",
              "    </tr>\n",
              "    <tr>\n",
              "      <th>1990</th>\n",
              "      <td>156.0</td>\n",
              "      <td>1757.5</td>\n",
              "      <td>3889.0</td>\n",
              "      <td>7492.0</td>\n",
              "      <td>4732.5</td>\n",
              "      <td>1487.0</td>\n",
              "    </tr>\n",
              "    <tr>\n",
              "      <th>1991</th>\n",
              "      <td>181.5</td>\n",
              "      <td>1813.0</td>\n",
              "      <td>3894.5</td>\n",
              "      <td>7587.5</td>\n",
              "      <td>4746.0</td>\n",
              "      <td>1418.0</td>\n",
              "    </tr>\n",
              "    <tr>\n",
              "      <th>1992</th>\n",
              "      <td>197.0</td>\n",
              "      <td>2075.5</td>\n",
              "      <td>4474.0</td>\n",
              "      <td>9296.0</td>\n",
              "      <td>5573.5</td>\n",
              "      <td>1345.5</td>\n",
              "    </tr>\n",
              "    <tr>\n",
              "      <th>1993</th>\n",
              "      <td>215.0</td>\n",
              "      <td>2566.0</td>\n",
              "      <td>5241.0</td>\n",
              "      <td>11709.5</td>\n",
              "      <td>6775.5</td>\n",
              "      <td>1416.0</td>\n",
              "    </tr>\n",
              "  </tbody>\n",
              "</table>\n",
              "</div>"
            ],
            "text/plain": [
              "age   5-14 years  15-24 years  25-34 years  35-54 years  55-74 years  75+ years\n",
              "year                                                                           \n",
              "1989       155.5       1604.5       3841.5       7178.0       4646.0     1535.0\n",
              "1990       156.0       1757.5       3889.0       7492.0       4732.5     1487.0\n",
              "1991       181.5       1813.0       3894.5       7587.5       4746.0     1418.0\n",
              "1992       197.0       2075.5       4474.0       9296.0       5573.5     1345.5\n",
              "1993       215.0       2566.0       5241.0      11709.5       6775.5     1416.0"
            ]
          },
          "metadata": {
            "tags": []
          },
          "execution_count": 112
        }
      ]
    },
    {
      "cell_type": "code",
      "metadata": {
        "colab": {
          "base_uri": "https://localhost:8080/",
          "height": 512
        },
        "id": "BGFtZmtThK3q",
        "outputId": "0d61e7c9-e9ac-4da7-c1e8-794fc9f6d59f"
      },
      "source": [
        "#plotar a pivot table das faixas etárias\n",
        "table_russia.plot.bar(stacked=True, figsize=(16,8))\n",
        "plt.legend(title=\"Idade\");"
      ],
      "execution_count": 113,
      "outputs": [
        {
          "output_type": "display_data",
          "data": {
            "image/png": "[encoded data removed]",
            "text/plain": [
              "<Figure size 1152x576 with 1 Axes>"
            ]
          },
          "metadata": {
            "tags": [],
            "needs_background": "light"
          }
        }
      ]
    },
    {
      "cell_type": "markdown",
      "metadata": {
        "id": "IE7iFnz6ld7V"
      },
      "source": [
        "A maior parte dos suicídios na Rússia acontecia entre pessoas de 35-54 anos, semelhante ao Brasil."
      ]
    },
    {
      "cell_type": "code",
      "metadata": {
        "colab": {
          "base_uri": "https://localhost:8080/",
          "height": 248
        },
        "id": "CzbE86EXlsjs",
        "outputId": "dc6d8d73-2d9f-4200-f9f6-3d59f0688269"
      },
      "source": [
        "#extraindo valores entre homens e mulheres\n",
        "homens_mulheres_russia = df_russia.groupby('sex').suicides_no.sum() / df_japao.groupby('sex').suicides_no.sum().sum()\n",
        "\n",
        "#plotando o gráfico de pizza\n",
        "plt.pie(homens_mulheres_russia, labels=['mulheres', 'homens'], autopct='%1.1f%%', shadow=True);"
      ],
      "execution_count": 115,
      "outputs": [
        {
          "output_type": "display_data",
          "data": {
            "image/png": "[encoded data removed]",
            "text/plain": [
              "<Figure size 432x288 with 1 Axes>"
            ]
          },
          "metadata": {
            "tags": []
          }
        }
      ]
    },
    {
      "cell_type": "markdown",
      "metadata": {
        "id": "NEAKB-jrl09L"
      },
      "source": [
        "E a média de suicídios cometidos também possui a sua maiora Homens."
      ]
    }
  ]
}
